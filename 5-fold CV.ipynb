{
 "cells": [
  {
   "cell_type": "markdown",
   "metadata": {},
   "source": [
    "## 1、数据拆成5份并导出"
   ]
  },
  {
   "cell_type": "code",
   "execution_count": 1,
   "metadata": {},
   "outputs": [],
   "source": [
    "import numpy as np\n",
    "import pandas as pd"
   ]
  },
  {
   "cell_type": "code",
   "execution_count": 9,
   "metadata": {},
   "outputs": [],
   "source": [
    "data=pd.read_excel(\"D:\\\\本基\\\\投稿\\\\结果\\\\allyz.xlsx\")"
   ]
  },
  {
   "cell_type": "code",
   "execution_count": 10,
   "metadata": {},
   "outputs": [],
   "source": [
    "data1=data[0:2960]\n",
    "data2=data[2960:5919]\n",
    "data3=data[5919:8878]\n",
    "data4=data[8878:11837]\n",
    "data5=data[11837:14797]"
   ]
  },
  {
   "cell_type": "code",
   "execution_count": 11,
   "metadata": {},
   "outputs": [],
   "source": [
    "train1=pd.concat([data2,data3,data4,data5],ignore_index=False)\n",
    "train2=pd.concat([data1,data3,data4,data5],ignore_index=False)\n",
    "train3=pd.concat([data1,data2,data4,data5],ignore_index=False)\n",
    "train4=pd.concat([data1,data2,data3,data5],ignore_index=False)\n",
    "train5=pd.concat([data1,data2,data3,data4],ignore_index=False)"
   ]
  },
  {
   "cell_type": "code",
   "execution_count": 12,
   "metadata": {},
   "outputs": [],
   "source": [
    "train1.to_csv(\"D:\\\\本基\\\\投稿\\\\结果\\\\train1.csv\")\n",
    "train2.to_csv(\"D:\\\\本基\\\\投稿\\\\结果\\\\train2.csv\")\n",
    "train3.to_csv(\"D:\\\\本基\\\\投稿\\\\结果\\\\train3.csv\")\n",
    "train4.to_csv(\"D:\\\\本基\\\\投稿\\\\结果\\\\train4.csv\")\n",
    "train5.to_csv(\"D:\\\\本基\\\\投稿\\\\结果\\\\train5.csv\")\n",
    "data1.to_csv(\"D:\\\\本基\\\\投稿\\\\结果\\\\test1.csv\")\n",
    "data2.to_csv(\"D:\\\\本基\\\\投稿\\\\结果\\\\test2.csv\")\n",
    "data3.to_csv(\"D:\\\\本基\\\\投稿\\\\结果\\\\test3.csv\")\n",
    "data4.to_csv(\"D:\\\\本基\\\\投稿\\\\结果\\\\test4.csv\")\n",
    "data5.to_csv(\"D:\\\\本基\\\\投稿\\\\结果\\\\test5.csv\")"
   ]
  },
  {
   "cell_type": "code",
   "execution_count": 13,
   "metadata": {},
   "outputs": [
    {
     "name": "stdout",
     "output_type": "stream",
     "text": [
      "(11837, 8) (11838, 8) (11838, 8) (11838, 8) (11837, 8)\n",
      "(2960, 8) (2959, 8) (2959, 8) (2959, 8) (2960, 8)\n"
     ]
    }
   ],
   "source": [
    "print(train1.shape,train2.shape,train3.shape,train4.shape,train5.shape)\n",
    "print(data1.shape,data2.shape,data3.shape,data4.shape,data5.shape)"
   ]
  },
  {
   "cell_type": "markdown",
   "metadata": {},
   "source": [
    "## 2、包的导入及数据读取准备"
   ]
  },
  {
   "cell_type": "code",
   "execution_count": 1,
   "metadata": {},
   "outputs": [],
   "source": [
    "import numpy as np\n",
    "import matplotlib as mpl\n",
    "import matplotlib.pyplot as plt\n",
    "import pandas as pd\n",
    "import warnings  # 警告处理\n",
    "\n",
    "#from sklearn.linear_model.coordinate_descent import ConvergenceWarning  # 警告处理\n",
    "from sklearn.linear_model import LinearRegression, LassoCV, RidgeCV  # 回归模型\n",
    "from sklearn.tree import DecisionTreeRegressor  # 回归决策树模型\n",
    "from sklearn.model_selection import train_test_split  # 数据分割\n",
    "from sklearn.preprocessing import MinMaxScaler  # 数据归一化 (分类)\n",
    "from sklearn.preprocessing import StandardScaler  # 数据归一化(回归)\n",
    "\n",
    "from sklearn import tree\n",
    "from sklearn.decomposition import PCA  # 主成分分析\n",
    "from sklearn.pipeline import Pipeline  # 管道\n",
    "from sklearn.model_selection import GridSearchCV  # 网格搜索交叉验证，用于选择最优的参数\n",
    "\n",
    "from sklearn.preprocessing import label_binarize  # 数据二值化\n",
    "from sklearn.decomposition import PCA  # 降维\n",
    "from sklearn.ensemble import RandomForestClassifier  # 分类随机森林模型\n",
    "from sklearn.ensemble import RandomForestRegressor  # 回归随机森林模型\n",
    "from sklearn import metrics  # ROC/AUC"
   ]
  },
  {
   "cell_type": "code",
   "execution_count": 2,
   "metadata": {},
   "outputs": [],
   "source": [
    "# 设置字符集，防止中文乱码\n",
    "mpl.rcParams['font.sans-serif']=[u'simHei']\n",
    "mpl.rcParams['axes.unicode_minus']=False\n",
    "# 拦截异常\n",
    "#warnings.filterwarnings(action = 'ignore', category=ConvergenceWarning)"
   ]
  },
  {
   "cell_type": "code",
   "execution_count": 3,
   "metadata": {},
   "outputs": [
    {
     "name": "stdout",
     "output_type": "stream",
     "text": [
      "训练数据集样本数目：14797, 测试数据集样本数目：14797\n"
     ]
    },
    {
     "data": {
      "text/plain": [
       "'# 4.数据归一化(回归)\\nfrom sklearn.preprocessing import StandardScaler  # 数据归一化(回归)\\nss = StandardScaler()  # 创建归一化模型\\nX_train = ss.fit_transform(X_train, Y_train)  # 训练模型并转换数据\\nX_test = ss.transform(X_test)  # 转换数据'"
      ]
     },
     "execution_count": 3,
     "metadata": {},
     "output_type": "execute_result"
    }
   ],
   "source": [
    "train=pd.read_csv('all.csv')\n",
    "test=pd.read_csv('all.csv')\n",
    "#所有列都进入决策\n",
    "train=train[['category','lnfans', 'lnlikes', 'lnviewers_y','date', 'count', 'lnviewers_x', 'sum', 'customer_unit_price', 'lnsales','lnsales_value']]\n",
    "test=test[['category','lnfans', 'lnlikes', 'lnviewers_y','date', 'count', 'lnviewers_x', 'sum', 'customer_unit_price', 'lnsales','lnsales_value']]\n",
    "\n",
    "# 2.数据处理\n",
    "train[np.isinf(train)]=np.nan\n",
    "train=train.dropna(axis=0,how='any')\n",
    "train = train.values\n",
    "#print(train)\n",
    "\n",
    "test[np.isinf(test)]=np.nan\n",
    "test=test.dropna(axis=0,how='any')\n",
    "test = test.values\n",
    "#print(test)\n",
    "\n",
    "# 3.数据分割\n",
    "X_train, Y_train = np.split(train, (10,), axis=1)\n",
    "X_test,Y_test=np.split(test, (10,), axis=1)\n",
    "print (\"训练数据集样本数目：%d, 测试数据集样本数目：%d\" % (X_train.shape[0], X_test.shape[0]))\n",
    "\n",
    "'''# 4.数据归一化(回归)\n",
    "from sklearn.preprocessing import StandardScaler  # 数据归一化(回归)\n",
    "ss = StandardScaler()  # 创建归一化模型\n",
    "X_train = ss.fit_transform(X_train, Y_train)  # 训练模型并转换数据\n",
    "X_test = ss.transform(X_test)  # 转换数据'''\n"
   ]
  },
  {
   "cell_type": "markdown",
   "metadata": {},
   "source": [
    "## 3、决策树参数选择\n",
    "### 以max_depth=10为最优"
   ]
  },
  {
   "cell_type": "code",
   "execution_count": 4,
   "metadata": {},
   "outputs": [
    {
     "name": "stdout",
     "output_type": "stream",
     "text": [
      "1深度，MSE：3.31176，训练R-square:0.34754，测试R-square:0.34754\n",
      "2深度，MSE：1.97992，训练R-square:0.60993，测试R-square:0.60993\n",
      "3深度，MSE：1.28333，训练R-square:0.74717，测试R-square:0.74717\n",
      "4深度，MSE：0.72546，训练R-square:0.85708，测试R-square:0.85708\n",
      "5深度，MSE：0.38047，训练R-square:0.92504，测试R-square:0.92504\n",
      "6深度，MSE：0.19808，训练R-square:0.96098，测试R-square:0.96098\n",
      "7深度，MSE：0.09843，训练R-square:0.98061，测试R-square:0.98061\n",
      "8深度，MSE：0.04841，训练R-square:0.99046，测试R-square:0.99046\n",
      "9深度，MSE：0.02264，训练R-square:0.99554，测试R-square:0.99554\n",
      "10深度，MSE：0.01025，训练R-square:0.99798，测试R-square:0.99798\n",
      "11深度，MSE：0.00458，训练R-square:0.99910，测试R-square:0.99910\n",
      "12深度，MSE：0.00186，训练R-square:0.99963，测试R-square:0.99963\n",
      "13深度，MSE：0.00070，训练R-square:0.99986，测试R-square:0.99986\n",
      "14深度，MSE：0.00023，训练R-square:0.99996，测试R-square:0.99996\n",
      "15深度，MSE：0.00007，训练R-square:0.99999，测试R-square:0.99999\n",
      "16深度，MSE：0.00002，训练R-square:1.00000，测试R-square:1.00000\n",
      "17深度，MSE：0.00000，训练R-square:1.00000，测试R-square:1.00000\n",
      "18深度，MSE：0.00000，训练R-square:1.00000，测试R-square:1.00000\n",
      "19深度，MSE：0.00000，训练R-square:1.00000，测试R-square:1.00000\n"
     ]
    },
    {
     "data": {
      "image/png": "[encoded data removed]",
      "text/plain": [
       "<Figure size 432x288 with 1 Axes>"
      ]
     },
     "metadata": {},
     "output_type": "display_data"
    }
   ],
   "source": [
    "# 模型训构建，训练，评估\n",
    "depths = np.arange(1, 20)\n",
    "mse_list = []\n",
    "R2_list = []\n",
    "R2_test_list=[]\n",
    "\n",
    "for d in depths:\n",
    "    clf = DecisionTreeRegressor(criterion='mse', max_depth=d)  # max_depth决策树深度\n",
    "    clf.fit(X_train, Y_train)\n",
    "    Y_pred= clf.predict(X_test) #预测\n",
    "    R2 = clf.score(X_train, Y_train) #计算训练R-square\n",
    "    mse=(1-clf.score(X_test,Y_test))*(np.var(Y_test)) #计算测试MSE\n",
    "    R2_test=clf.score(X_test,Y_test) #计算测试R-square\n",
    "    mse_list.append(mse)\n",
    "    R2_list.append(R2)\n",
    "    R2_test_list.append(R2_test)\n",
    "    print (u\"%d深度，MSE：%.5f，训练R-square:%.5f，测试R-square:%.5f\" % (d, mse,R2,R2_test))\n",
    "\n",
    "plt.figure(facecolor='w')\n",
    "plt.plot(depths, mse_list, 'ro-', lw=3,label='测试MSE')\n",
    "plt.plot(depths, R2_list, 'go-', lw=3,label='训练R-square')\n",
    "#plt.plot(depths, R2_test_list, 'bo-', lw=3,label='测试R-square')\n",
    "plt.xlabel(u'决策树深度', fontsize=16)\n",
    "plt.ylabel(u'百分数', fontsize=16)\n",
    "plt.legend(loc = 'lower right')\n",
    "plt.grid(True)\n",
    "plt.title(u'不同深度决策树效果', fontsize=18)\n",
    "plt.show()\n",
    "#max_depth=10左右为最优"
   ]
  },
  {
   "cell_type": "markdown",
   "metadata": {},
   "source": [
    "## 4、随机森林参数选择\n",
    "### 以max_depth=8为最优"
   ]
  },
  {
   "cell_type": "code",
   "execution_count": 5,
   "metadata": {},
   "outputs": [
    {
     "name": "stderr",
     "output_type": "stream",
     "text": [
      "D:\\Anaconda_exe\\lib\\site-packages\\ipykernel_launcher.py:10: DataConversionWarning: A column-vector y was passed when a 1d array was expected. Please change the shape of y to (n_samples,), for example using ravel().\n",
      "  # Remove the CWD from sys.path while we load stuff.\n"
     ]
    },
    {
     "name": "stdout",
     "output_type": "stream",
     "text": [
      "1深度，测试MSE3.25671，训练R-square:0.35839，测试R-square:0.35839\n"
     ]
    },
    {
     "name": "stderr",
     "output_type": "stream",
     "text": [
      "D:\\Anaconda_exe\\lib\\site-packages\\ipykernel_launcher.py:10: DataConversionWarning: A column-vector y was passed when a 1d array was expected. Please change the shape of y to (n_samples,), for example using ravel().\n",
      "  # Remove the CWD from sys.path while we load stuff.\n"
     ]
    },
    {
     "name": "stdout",
     "output_type": "stream",
     "text": [
      "2深度，测试MSE1.82826，训练R-square:0.63981，测试R-square:0.63981\n"
     ]
    },
    {
     "name": "stderr",
     "output_type": "stream",
     "text": [
      "D:\\Anaconda_exe\\lib\\site-packages\\ipykernel_launcher.py:10: DataConversionWarning: A column-vector y was passed when a 1d array was expected. Please change the shape of y to (n_samples,), for example using ravel().\n",
      "  # Remove the CWD from sys.path while we load stuff.\n"
     ]
    },
    {
     "name": "stdout",
     "output_type": "stream",
     "text": [
      "3深度，测试MSE1.11136，训练R-square:0.78105，测试R-square:0.78105\n"
     ]
    },
    {
     "name": "stderr",
     "output_type": "stream",
     "text": [
      "D:\\Anaconda_exe\\lib\\site-packages\\ipykernel_launcher.py:10: DataConversionWarning: A column-vector y was passed when a 1d array was expected. Please change the shape of y to (n_samples,), for example using ravel().\n",
      "  # Remove the CWD from sys.path while we load stuff.\n"
     ]
    },
    {
     "name": "stdout",
     "output_type": "stream",
     "text": [
      "4深度，测试MSE0.53338，训练R-square:0.89492，测试R-square:0.89492\n"
     ]
    },
    {
     "name": "stderr",
     "output_type": "stream",
     "text": [
      "D:\\Anaconda_exe\\lib\\site-packages\\ipykernel_launcher.py:10: DataConversionWarning: A column-vector y was passed when a 1d array was expected. Please change the shape of y to (n_samples,), for example using ravel().\n",
      "  # Remove the CWD from sys.path while we load stuff.\n"
     ]
    },
    {
     "name": "stdout",
     "output_type": "stream",
     "text": [
      "5深度，测试MSE0.22212，训练R-square:0.95624，测试R-square:0.95624\n"
     ]
    },
    {
     "name": "stderr",
     "output_type": "stream",
     "text": [
      "D:\\Anaconda_exe\\lib\\site-packages\\ipykernel_launcher.py:10: DataConversionWarning: A column-vector y was passed when a 1d array was expected. Please change the shape of y to (n_samples,), for example using ravel().\n",
      "  # Remove the CWD from sys.path while we load stuff.\n"
     ]
    },
    {
     "name": "stdout",
     "output_type": "stream",
     "text": [
      "6深度，测试MSE0.08324，训练R-square:0.98360，测试R-square:0.98360\n"
     ]
    },
    {
     "name": "stderr",
     "output_type": "stream",
     "text": [
      "D:\\Anaconda_exe\\lib\\site-packages\\ipykernel_launcher.py:10: DataConversionWarning: A column-vector y was passed when a 1d array was expected. Please change the shape of y to (n_samples,), for example using ravel().\n",
      "  # Remove the CWD from sys.path while we load stuff.\n"
     ]
    },
    {
     "name": "stdout",
     "output_type": "stream",
     "text": [
      "7深度，测试MSE0.03093，训练R-square:0.99391，测试R-square:0.99391\n"
     ]
    },
    {
     "name": "stderr",
     "output_type": "stream",
     "text": [
      "D:\\Anaconda_exe\\lib\\site-packages\\ipykernel_launcher.py:10: DataConversionWarning: A column-vector y was passed when a 1d array was expected. Please change the shape of y to (n_samples,), for example using ravel().\n",
      "  # Remove the CWD from sys.path while we load stuff.\n"
     ]
    },
    {
     "name": "stdout",
     "output_type": "stream",
     "text": [
      "8深度，测试MSE0.01033，训练R-square:0.99796，测试R-square:0.99796\n"
     ]
    },
    {
     "name": "stderr",
     "output_type": "stream",
     "text": [
      "D:\\Anaconda_exe\\lib\\site-packages\\ipykernel_launcher.py:10: DataConversionWarning: A column-vector y was passed when a 1d array was expected. Please change the shape of y to (n_samples,), for example using ravel().\n",
      "  # Remove the CWD from sys.path while we load stuff.\n"
     ]
    },
    {
     "name": "stdout",
     "output_type": "stream",
     "text": [
      "9深度，测试MSE0.00421，训练R-square:0.99917，测试R-square:0.99917\n"
     ]
    },
    {
     "name": "stderr",
     "output_type": "stream",
     "text": [
      "D:\\Anaconda_exe\\lib\\site-packages\\ipykernel_launcher.py:10: DataConversionWarning: A column-vector y was passed when a 1d array was expected. Please change the shape of y to (n_samples,), for example using ravel().\n",
      "  # Remove the CWD from sys.path while we load stuff.\n"
     ]
    },
    {
     "name": "stdout",
     "output_type": "stream",
     "text": [
      "10深度，测试MSE0.00212，训练R-square:0.99958，测试R-square:0.99958\n"
     ]
    },
    {
     "name": "stderr",
     "output_type": "stream",
     "text": [
      "D:\\Anaconda_exe\\lib\\site-packages\\ipykernel_launcher.py:10: DataConversionWarning: A column-vector y was passed when a 1d array was expected. Please change the shape of y to (n_samples,), for example using ravel().\n",
      "  # Remove the CWD from sys.path while we load stuff.\n"
     ]
    },
    {
     "name": "stdout",
     "output_type": "stream",
     "text": [
      "11深度，测试MSE0.00147，训练R-square:0.99971，测试R-square:0.99971\n"
     ]
    },
    {
     "name": "stderr",
     "output_type": "stream",
     "text": [
      "D:\\Anaconda_exe\\lib\\site-packages\\ipykernel_launcher.py:10: DataConversionWarning: A column-vector y was passed when a 1d array was expected. Please change the shape of y to (n_samples,), for example using ravel().\n",
      "  # Remove the CWD from sys.path while we load stuff.\n"
     ]
    },
    {
     "name": "stdout",
     "output_type": "stream",
     "text": [
      "12深度，测试MSE0.00120，训练R-square:0.99976，测试R-square:0.99976\n"
     ]
    },
    {
     "name": "stderr",
     "output_type": "stream",
     "text": [
      "D:\\Anaconda_exe\\lib\\site-packages\\ipykernel_launcher.py:10: DataConversionWarning: A column-vector y was passed when a 1d array was expected. Please change the shape of y to (n_samples,), for example using ravel().\n",
      "  # Remove the CWD from sys.path while we load stuff.\n"
     ]
    },
    {
     "name": "stdout",
     "output_type": "stream",
     "text": [
      "13深度，测试MSE0.00110，训练R-square:0.99978，测试R-square:0.99978\n"
     ]
    },
    {
     "name": "stderr",
     "output_type": "stream",
     "text": [
      "D:\\Anaconda_exe\\lib\\site-packages\\ipykernel_launcher.py:10: DataConversionWarning: A column-vector y was passed when a 1d array was expected. Please change the shape of y to (n_samples,), for example using ravel().\n",
      "  # Remove the CWD from sys.path while we load stuff.\n"
     ]
    },
    {
     "name": "stdout",
     "output_type": "stream",
     "text": [
      "14深度，测试MSE0.00105，训练R-square:0.99979，测试R-square:0.99979\n"
     ]
    },
    {
     "name": "stderr",
     "output_type": "stream",
     "text": [
      "D:\\Anaconda_exe\\lib\\site-packages\\ipykernel_launcher.py:10: DataConversionWarning: A column-vector y was passed when a 1d array was expected. Please change the shape of y to (n_samples,), for example using ravel().\n",
      "  # Remove the CWD from sys.path while we load stuff.\n"
     ]
    },
    {
     "name": "stdout",
     "output_type": "stream",
     "text": [
      "15深度，测试MSE0.00104，训练R-square:0.99980，测试R-square:0.99980\n"
     ]
    },
    {
     "name": "stderr",
     "output_type": "stream",
     "text": [
      "D:\\Anaconda_exe\\lib\\site-packages\\ipykernel_launcher.py:10: DataConversionWarning: A column-vector y was passed when a 1d array was expected. Please change the shape of y to (n_samples,), for example using ravel().\n",
      "  # Remove the CWD from sys.path while we load stuff.\n"
     ]
    },
    {
     "name": "stdout",
     "output_type": "stream",
     "text": [
      "16深度，测试MSE0.00104，训练R-square:0.99980，测试R-square:0.99980\n"
     ]
    },
    {
     "name": "stderr",
     "output_type": "stream",
     "text": [
      "D:\\Anaconda_exe\\lib\\site-packages\\ipykernel_launcher.py:10: DataConversionWarning: A column-vector y was passed when a 1d array was expected. Please change the shape of y to (n_samples,), for example using ravel().\n",
      "  # Remove the CWD from sys.path while we load stuff.\n"
     ]
    },
    {
     "name": "stdout",
     "output_type": "stream",
     "text": [
      "17深度，测试MSE0.00104，训练R-square:0.99980，测试R-square:0.99980\n"
     ]
    },
    {
     "name": "stderr",
     "output_type": "stream",
     "text": [
      "D:\\Anaconda_exe\\lib\\site-packages\\ipykernel_launcher.py:10: DataConversionWarning: A column-vector y was passed when a 1d array was expected. Please change the shape of y to (n_samples,), for example using ravel().\n",
      "  # Remove the CWD from sys.path while we load stuff.\n"
     ]
    },
    {
     "name": "stdout",
     "output_type": "stream",
     "text": [
      "18深度，测试MSE0.00103，训练R-square:0.99980，测试R-square:0.99980\n"
     ]
    },
    {
     "name": "stderr",
     "output_type": "stream",
     "text": [
      "D:\\Anaconda_exe\\lib\\site-packages\\ipykernel_launcher.py:10: DataConversionWarning: A column-vector y was passed when a 1d array was expected. Please change the shape of y to (n_samples,), for example using ravel().\n",
      "  # Remove the CWD from sys.path while we load stuff.\n"
     ]
    },
    {
     "name": "stdout",
     "output_type": "stream",
     "text": [
      "19深度，测试MSE0.00103，训练R-square:0.99980，测试R-square:0.99980\n"
     ]
    }
   ],
   "source": [
    "# 不同深度的随机森林建模并计算正确率、R方\n",
    "from sklearn.ensemble import RandomForestRegressor  # 回归随机森林模型\n",
    "\n",
    "depths = np.arange(1, 20)\n",
    "mse_list = []\n",
    "R2_list = []\n",
    "R2_test_list=[]\n",
    "for d in depths:\n",
    "    clf = RandomForestRegressor(n_estimators= 1000, random_state=42,max_depth=d)  # max_depth决策树深度\n",
    "    clf.fit(X_train, Y_train)\n",
    "    Y_pred= clf.predict(X_test) #预测\n",
    "    R2 = clf.score(X_train, Y_train) #计算训练R-square\n",
    "    mse=(1-clf.score(X_test,Y_test))*(np.var(Y_test)) #计算测试MSE\n",
    "    R2_test=clf.score(X_test,Y_test) #计算测试R-square\n",
    "    mse_list.append(mse)\n",
    "    R2_list.append(R2)  \n",
    "    R2_test_list.append(R2_test)\n",
    "    #展示计算结果\n",
    "    print (\"%d深度，测试MSE%.5f，训练R-square:%.5f，测试R-square:%.5f\" % (d,mse,R2,R2_test))\n"
   ]
  },
  {
   "cell_type": "code",
   "execution_count": 6,
   "metadata": {},
   "outputs": [
    {
     "name": "stdout",
     "output_type": "stream",
     "text": [
      "1深度，测试MSE3.25671，训练R-square:0.35839，测试R-square:0.35839\n",
      "2深度，测试MSE1.82826，训练R-square:0.63981，测试R-square:0.63981\n",
      "3深度，测试MSE1.11136，训练R-square:0.78105，测试R-square:0.78105\n",
      "4深度，测试MSE0.53338，训练R-square:0.89492，测试R-square:0.89492\n",
      "5深度，测试MSE0.22212，训练R-square:0.95624，测试R-square:0.95624\n",
      "6深度，测试MSE0.08324，训练R-square:0.98360，测试R-square:0.98360\n",
      "7深度，测试MSE0.03093，训练R-square:0.99391，测试R-square:0.99391\n",
      "8深度，测试MSE0.01033，训练R-square:0.99796，测试R-square:0.99796\n",
      "9深度，测试MSE0.00421，训练R-square:0.99917，测试R-square:0.99917\n",
      "10深度，测试MSE0.00212，训练R-square:0.99958，测试R-square:0.99958\n",
      "11深度，测试MSE0.00147，训练R-square:0.99971，测试R-square:0.99971\n",
      "12深度，测试MSE0.00120，训练R-square:0.99976，测试R-square:0.99976\n",
      "13深度，测试MSE0.00110，训练R-square:0.99978，测试R-square:0.99978\n",
      "14深度，测试MSE0.00105，训练R-square:0.99979，测试R-square:0.99979\n",
      "15深度，测试MSE0.00104，训练R-square:0.99980，测试R-square:0.99980\n",
      "16深度，测试MSE0.00104，训练R-square:0.99980，测试R-square:0.99980\n",
      "17深度，测试MSE0.00104，训练R-square:0.99980，测试R-square:0.99980\n",
      "18深度，测试MSE0.00103，训练R-square:0.99980，测试R-square:0.99980\n",
      "19深度，测试MSE0.00103，训练R-square:0.99980，测试R-square:0.99980\n"
     ]
    },
    {
     "data": {
      "image/png": "[encoded data removed]",
      "text/plain": [
       "<Figure size 432x288 with 1 Axes>"
      ]
     },
     "metadata": {},
     "output_type": "display_data"
    }
   ],
   "source": [
    "for d in depths:\n",
    "    print (\"%d深度，测试MSE%.5f，训练R-square:%.5f，测试R-square:%.5f\" % (d,mse_list[d-1],R2_list[d-1],R2_test_list[d-1]))\n",
    "## 画图\n",
    "plt.figure(facecolor='w')\n",
    "plt.plot(depths, mse_list, 'ro-', lw=3,label=u'测试MSE')\n",
    "plt.plot(depths,R2_list,'go-',lw=3,label=u'训练R-square')\n",
    "#plt.plot(depths, R2_test_list, 'bo-', lw=3,label=u'测试R-sqaure')\n",
    "plt.xlabel(u'树深度', fontsize=16)\n",
    "plt.ylabel(u'百分数', fontsize=16)\n",
    "plt.legend(loc = 'lower right')\n",
    "plt.grid(True)\n",
    "plt.title(u'随机森林不同树深度比较', fontsize=18)\n",
    "plt.show()\n",
    "#max_depth=10的时候差不多最优"
   ]
  },
  {
   "cell_type": "markdown",
   "metadata": {},
   "source": [
    "## 5、MAPE计算\n",
    "### 第一折：\n",
    "决策树测试集MAPE值：0.2328980564482833  \n",
    "决策树训练集MAPE值：0.21705110049595422  \n",
    "随机森林测试集MAPE值：0.23184710182717563  \n",
    "随机森林训练集MAPE值：0.21603572411063135  \n",
    "### 第二折：\n",
    "决策树测试集MAPE值：0.21183559327361112  \n",
    "决策树训练集MAPE值：0.22218319611111964  \n",
    "随机森林测试集MAPE值：0.21098378422780376  \n",
    "随机森林训练集MAPE值：0.22117757603024135  \n",
    "### 第三折：\n",
    "决策树测试集MAPE值：0.2099164867983621  \n",
    "决策树训练集MAPE值：0.2227563914126502  \n",
    "随机森林测试集MAPE值：0.20865102176912892  \n",
    "随机森林训练集MAPE值：0.2217818997725544  \n",
    "### 第四折：\n",
    "决策树测试集MAPE值：0.21203228801711527  \n",
    "决策树训练集MAPE值：0.222244899270639  \n",
    "随机森林测试集MAPE值：0.21098181683250986  \n",
    "随机森林训练集MAPE值：0.22121534529215373  \n",
    "### 第五折：\n",
    "决策树测试集MAPE值：0.23313733743321371  \n",
    "决策树训练集MAPE值：0.21696453854817455  \n",
    "随机森林测试集MAPE值：0.23178211246827582  \n",
    "随机森林训练集MAPE值：0.21600742694663197  "
   ]
  },
  {
   "cell_type": "code",
   "execution_count": 16,
   "metadata": {},
   "outputs": [
    {
     "name": "stdout",
     "output_type": "stream",
     "text": [
      "训练数据集样本数目：11837, 测试数据集样本数目：2960\n"
     ]
    }
   ],
   "source": [
    "train=pd.read_csv('train5.csv')\n",
    "test=pd.read_csv('test5.csv')\n",
    "#所有列都进入决策\n",
    "train=train[['category','lnfans', 'lnlikes', 'lnviewers_y','date', 'count', 'lnviewers_x', 'sum', 'customer_unit_price', 'lnsales','lnsales_value']]\n",
    "test=test[['category','lnfans', 'lnlikes', 'lnviewers_y','date', 'count', 'lnviewers_x', 'sum', 'customer_unit_price', 'lnsales','lnsales_value']]\n",
    "\n",
    "# 2.数据处理\n",
    "train[np.isinf(train)]=np.nan\n",
    "train=train.dropna(axis=0,how='any')\n",
    "train = train.values\n",
    "#print(train)\n",
    "\n",
    "test[np.isinf(test)]=np.nan\n",
    "test=test.dropna(axis=0,how='any')\n",
    "test = test.values\n",
    "#print(test)\n",
    "\n",
    "# 3.数据分割\n",
    "X_train, Y_train = np.split(train, (10,), axis=1)\n",
    "X_test,Y_test=np.split(test, (10,), axis=1)\n",
    "print (\"训练数据集样本数目：%d, 测试数据集样本数目：%d\" % (X_train.shape[0], X_test.shape[0]))"
   ]
  },
  {
   "cell_type": "code",
   "execution_count": 17,
   "metadata": {},
   "outputs": [
    {
     "name": "stderr",
     "output_type": "stream",
     "text": [
      "D:\\Anaconda_exe\\lib\\site-packages\\ipykernel_launcher.py:10: RuntimeWarning: divide by zero encountered in true_divide\n",
      "  # Remove the CWD from sys.path while we load stuff.\n"
     ]
    },
    {
     "name": "stdout",
     "output_type": "stream",
     "text": [
      "决策树测试集MAPE值和NMSE值分别为\n",
      "0.23313733743321371\n",
      "2.008766854447366\n"
     ]
    },
    {
     "name": "stderr",
     "output_type": "stream",
     "text": [
      "D:\\Anaconda_exe\\lib\\site-packages\\ipykernel_launcher.py:27: RuntimeWarning: divide by zero encountered in true_divide\n",
      "D:\\Anaconda_exe\\lib\\site-packages\\ipykernel_launcher.py:27: RuntimeWarning: invalid value encountered in true_divide\n"
     ]
    },
    {
     "name": "stdout",
     "output_type": "stream",
     "text": [
      "决策树训练集MAPE值和NMSE值分别为\n",
      "0.21696453854817455\n",
      "1.975825196348761\n"
     ]
    },
    {
     "name": "stderr",
     "output_type": "stream",
     "text": [
      "D:\\Anaconda_exe\\lib\\site-packages\\ipykernel_launcher.py:46: DataConversionWarning: A column-vector y was passed when a 1d array was expected. Please change the shape of y to (n_samples,), for example using ravel().\n",
      "D:\\Anaconda_exe\\lib\\site-packages\\ipykernel_launcher.py:52: RuntimeWarning: divide by zero encountered in true_divide\n"
     ]
    },
    {
     "name": "stdout",
     "output_type": "stream",
     "text": [
      "随机森林测试集MAPE值和NMSE值分别为\n",
      "0.23178211246827582\n",
      "2.036070285581824\n"
     ]
    },
    {
     "name": "stderr",
     "output_type": "stream",
     "text": [
      "D:\\Anaconda_exe\\lib\\site-packages\\ipykernel_launcher.py:68: RuntimeWarning: divide by zero encountered in true_divide\n"
     ]
    },
    {
     "name": "stdout",
     "output_type": "stream",
     "text": [
      "随机森林训练集MAPE值和NMSE值分别为\n",
      "0.21600742694663197\n",
      "2.022764907248045\n"
     ]
    }
   ],
   "source": [
    "##决策树\n",
    "# 1、建立决策树模型、训练模型、作出预测\n",
    "clf_0 = DecisionTreeRegressor(criterion='mse',max_depth=10)\n",
    "clf_0.fit(X_train, Y_train)\n",
    "y_0 = clf_0.predict(X_test)\n",
    "y_1 = clf_0.predict(X_train)\n",
    "\n",
    "# 2、计算测试集MAPE值\n",
    "errors = abs(y_0 - Y_test) # 计算误差\n",
    "mape = errors / Y_test  # mean absolute percentage error (MAPE)\n",
    "mape=pd.DataFrame(mape)\n",
    "mape[np.isinf(mape)]=np.nan\n",
    "mape=mape.fillna(mape.mean())\n",
    "mape=mape.values\n",
    "print(u'决策树测试集MAPE值和NMSE值分别为')\n",
    "print(np.mean(mape))\n",
    "\n",
    "# 3、计算测试集NMSE值\n",
    "a = (y_0 - Y_test)**2 # 分子\n",
    "y=np.mean(Y_test)\n",
    "b=(y_0-y)**2 # 分母\n",
    "nmse=np.mean(a)/np.mean(b)\n",
    "print(nmse)\n",
    "\n",
    "# 4、计算训练集MAPE值\n",
    "errors = abs(y_1 - Y_train) # 计算误差\n",
    "mape = errors / Y_train  # mean absolute percentage error (MAPE)\n",
    "mape=pd.DataFrame(mape)\n",
    "mape[np.isinf(mape)]=np.nan\n",
    "mape=mape.fillna(mape.mean())\n",
    "mape=mape.values\n",
    "print(u'决策树训练集MAPE值和NMSE值分别为')\n",
    "print(np.mean(mape))\n",
    "\n",
    "# 5、计算训练集NMSE值\n",
    "a = (y_1 - Y_train)**2 # 分子\n",
    "y=np.mean(Y_train)\n",
    "b=(y_0-y)**2 # 分母\n",
    "nmse=np.mean(a)/np.mean(b)\n",
    "print(nmse)\n",
    "\n",
    "\n",
    "##随机森林\n",
    "# 1、建立随机森林模型、训练模型、作出预测\n",
    "rf = RandomForestRegressor(n_estimators= 1000, random_state=42,max_depth=8)\n",
    "rf.fit(X_train, Y_train)\n",
    "predictions = rf.predict(X_test)\n",
    "predictions1= rf.predict(X_train)\n",
    "\n",
    "# 2、计算测试集MAPE值\n",
    "errors = abs(predictions - Y_test) # 计算误差\n",
    "mape = errors / Y_test # mean absolute percentage error (MAPE)\n",
    "where_are_inf = np.isinf(mape)\n",
    "mape[where_are_inf] = 0\n",
    "print(u'随机森林测试集MAPE值和NMSE值分别为')\n",
    "print(np.mean(mape))\n",
    "\n",
    "# 3、计算测试集NMSE值\n",
    "a = (predictions - Y_test)**2 # 分子\n",
    "y=np.mean(Y_test)\n",
    "b=(predictions-y)**2 # 分母\n",
    "nmse=np.mean(a)/np.mean(b)\n",
    "print(nmse)\n",
    "\n",
    "\n",
    "# 2、计算训练集MAPE值\n",
    "errors = abs(predictions1 - Y_train) # 计算误差\n",
    "mape = errors / Y_train # mean absolute percentage error (MAPE)\n",
    "where_are_inf = np.isinf(mape)\n",
    "mape[where_are_inf] = 0\n",
    "print(u'随机森林训练集MAPE值和NMSE值分别为')\n",
    "print(np.mean(mape))\n",
    "\n",
    "# 3、计算训练集NMSE值\n",
    "a = (predictions1 - Y_train)**2 # 分子\n",
    "y=np.mean(Y_train)\n",
    "b=(predictions1-y)**2 # 分母\n",
    "nmse=np.mean(a)/np.mean(b)\n",
    "print(nmse)\n",
    "\n"
   ]
  },
  {
   "cell_type": "code",
   "execution_count": null,
   "metadata": {},
   "outputs": [],
   "source": []
  },
  {
   "cell_type": "code",
   "execution_count": null,
   "metadata": {},
   "outputs": [],
   "source": []
  },
  {
   "cell_type": "code",
   "execution_count": null,
   "metadata": {},
   "outputs": [],
   "source": []
  }
 ],
 "metadata": {
  "kernelspec": {
   "display_name": "Python 3",
   "language": "python",
   "name": "python3"
  },
  "language_info": {
   "codemirror_mode": {
    "name": "ipython",
    "version": 3
   },
   "file_extension": ".py",
   "mimetype": "text/x-python",
   "name": "python",
   "nbconvert_exporter": "python",
   "pygments_lexer": "ipython3",
   "version": "3.8.8"
  }
 },
 "nbformat": 4,
 "nbformat_minor": 2
}
