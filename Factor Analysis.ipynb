{
 "cells": [
  {
   "cell_type": "code",
   "execution_count": 1,
   "id": "e8f59a48",
   "metadata": {},
   "outputs": [],
   "source": [
    "# 数据处理\n",
    "import pandas as pd\n",
    "import numpy as np\n",
    " \n",
    "# 绘图\n",
    "import seaborn as sns\n",
    "import matplotlib.pyplot as plt\n",
    "# 因子分析\n",
    "from factor_analyzer import FactorAnalyzer"
   ]
  },
  {
   "cell_type": "code",
   "execution_count": 8,
   "id": "48cb2cee",
   "metadata": {},
   "outputs": [],
   "source": [
    "df = pd.read_csv(\"D:\\\\本基\\\\投稿\\\\数据\\\\train1.csv\",encoding='gbk')\n",
    "#df"
   ]
  },
  {
   "cell_type": "code",
   "execution_count": 28,
   "id": "cb36c8e1",
   "metadata": {},
   "outputs": [],
   "source": [
    "df = pd.read_csv(\"D:\\\\本基\\\\投稿\\\\数据\\\\train1.csv\", index_col=11,encoding='gbk').reset_index(drop=True)\n",
    "#df"
   ]
  },
  {
   "cell_type": "code",
   "execution_count": 29,
   "id": "635b7cbc",
   "metadata": {},
   "outputs": [
    {
     "data": {
      "text/plain": [
       "(50001.78347924225, 0.0)"
      ]
     },
     "execution_count": 29,
     "metadata": {},
     "output_type": "execute_result"
    }
   ],
   "source": [
    "from factor_analyzer.factor_analyzer import calculate_bartlett_sphericity\n",
    " \n",
    "chi_square_value, p_value = calculate_bartlett_sphericity(df)\n",
    "chi_square_value, p_value\n"
   ]
  },
  {
   "cell_type": "code",
   "execution_count": 30,
   "id": "d7285ccb",
   "metadata": {},
   "outputs": [
    {
     "data": {
      "text/plain": [
       "0.668472732129223"
      ]
     },
     "execution_count": 30,
     "metadata": {},
     "output_type": "execute_result"
    }
   ],
   "source": [
    "#KMO检验\n",
    "from factor_analyzer.factor_analyzer import calculate_kmo\n",
    "kmo_all,kmo_model=calculate_kmo(df)\n",
    "kmo_model"
   ]
  },
  {
   "cell_type": "code",
   "execution_count": 31,
   "id": "ac2b7b6e",
   "metadata": {},
   "outputs": [
    {
     "name": "stdout",
     "output_type": "stream",
     "text": [
      "[3.33782897 1.40417645 1.19883687 1.01630272 0.9965953  0.95918892\n",
      " 0.72901068 0.63768483 0.45221226 0.20664883 0.06151417] [ 3.18396476e+00  1.00897260e+00  6.43672880e-01  5.70629435e-01\n",
      "  2.82590349e-01  1.41421901e-01  9.00511665e-02  4.51806810e-02\n",
      "  2.13107009e-02  1.70275237e-02 -1.78259636e-05]\n"
     ]
    }
   ],
   "source": [
    "faa = FactorAnalyzer(25,rotation=None)\n",
    "faa.fit(df)\n",
    " \n",
    "# 得到特征值ev、特征向量v\n",
    "ev,v=faa.get_eigenvalues()\n",
    "print(ev,v)"
   ]
  },
  {
   "cell_type": "code",
   "execution_count": 32,
   "id": "498da811",
   "metadata": {},
   "outputs": [
    {
     "data": {
      "image/png": "[encoded data removed]",
      "text/plain": [
       "<Figure size 432x288 with 1 Axes>"
      ]
     },
     "metadata": {
      "needs_background": "light"
     },
     "output_type": "display_data"
    }
   ],
   "source": [
    " # 同样的数据绘制散点图和折线图\n",
    "plt.scatter(range(1, df.shape[1] + 1), ev)\n",
    "plt.plot(range(1, df.shape[1] + 1), ev)\n",
    " \n",
    "# 显示图的标题和xy轴的名字\n",
    "# 最好使用英文，中文可能乱码\n",
    "plt.title(\"Scree Plot\")  \n",
    "plt.xlabel(\"Factors\")\n",
    "plt.ylabel(\"Eigenvalue\")\n",
    " \n",
    "plt.grid()  # 显示网格\n",
    "plt.show()  # 显示图形"
   ]
  },
  {
   "cell_type": "code",
   "execution_count": 33,
   "id": "b42c7a24",
   "metadata": {},
   "outputs": [],
   "source": [
    "import matplotlib as mpl\n",
    " \n",
    "mpl.rcParams['font.sans-serif'] = ['SimHei']  # 指定默认字体\n",
    "mpl.rcParams['axes.unicode_minus'] = False  # 解决保存图像是负号'-'显示为方块的问题\n"
   ]
  },
  {
   "cell_type": "code",
   "execution_count": 34,
   "id": "d8a35035",
   "metadata": {},
   "outputs": [
    {
     "data": {
      "text/plain": [
       "FactorAnalyzer(n_factors=6, rotation='varimax', rotation_kwargs={})"
      ]
     },
     "execution_count": 34,
     "metadata": {},
     "output_type": "execute_result"
    }
   ],
   "source": [
    "# 选择方式： varimax 方差最大化\n",
    "# 选择固定因子为 6 个\n",
    "faa_two = FactorAnalyzer(6,rotation='varimax')\n",
    "faa_two.fit(df)"
   ]
  },
  {
   "cell_type": "code",
   "execution_count": 35,
   "id": "c4579a8a",
   "metadata": {},
   "outputs": [
    {
     "data": {
      "text/plain": [
       "array([9.01585569e-01, 2.49771407e-01, 8.15336094e-01, 9.95045307e-01,\n",
       "       9.57167984e-01, 6.55912468e-04, 9.95112889e-01, 8.35832347e-01,\n",
       "       1.03658554e-01, 3.65565009e-01, 4.67116085e-01])"
      ]
     },
     "execution_count": 35,
     "metadata": {},
     "output_type": "execute_result"
    }
   ],
   "source": [
    "# 公因子方差\n",
    "faa_two.get_communalities()"
   ]
  },
  {
   "cell_type": "code",
   "execution_count": 36,
   "id": "fd551440",
   "metadata": {},
   "outputs": [
    {
     "data": {
      "text/html": [
       "<div>\n",
       "<style scoped>\n",
       "    .dataframe tbody tr th:only-of-type {\n",
       "        vertical-align: middle;\n",
       "    }\n",
       "\n",
       "    .dataframe tbody tr th {\n",
       "        vertical-align: top;\n",
       "    }\n",
       "\n",
       "    .dataframe thead th {\n",
       "        text-align: right;\n",
       "    }\n",
       "</style>\n",
       "<table border=\"1\" class=\"dataframe\">\n",
       "  <thead>\n",
       "    <tr style=\"text-align: right;\">\n",
       "      <th></th>\n",
       "      <th>0</th>\n",
       "    </tr>\n",
       "  </thead>\n",
       "  <tbody>\n",
       "    <tr>\n",
       "      <th>ID</th>\n",
       "      <td>0.901586</td>\n",
       "    </tr>\n",
       "    <tr>\n",
       "      <th>category</th>\n",
       "      <td>0.249771</td>\n",
       "    </tr>\n",
       "    <tr>\n",
       "      <th>lnfans</th>\n",
       "      <td>0.815336</td>\n",
       "    </tr>\n",
       "    <tr>\n",
       "      <th>lnlikes</th>\n",
       "      <td>0.995045</td>\n",
       "    </tr>\n",
       "    <tr>\n",
       "      <th>lnviewers_y</th>\n",
       "      <td>0.957168</td>\n",
       "    </tr>\n",
       "    <tr>\n",
       "      <th>date</th>\n",
       "      <td>0.000656</td>\n",
       "    </tr>\n",
       "    <tr>\n",
       "      <th>count</th>\n",
       "      <td>0.995113</td>\n",
       "    </tr>\n",
       "    <tr>\n",
       "      <th>lnviewers_x</th>\n",
       "      <td>0.835832</td>\n",
       "    </tr>\n",
       "    <tr>\n",
       "      <th>sum</th>\n",
       "      <td>0.103659</td>\n",
       "    </tr>\n",
       "    <tr>\n",
       "      <th>customer_unit_price</th>\n",
       "      <td>0.365565</td>\n",
       "    </tr>\n",
       "    <tr>\n",
       "      <th>lnsales</th>\n",
       "      <td>0.467116</td>\n",
       "    </tr>\n",
       "  </tbody>\n",
       "</table>\n",
       "</div>"
      ],
      "text/plain": [
       "                            0\n",
       "ID                   0.901586\n",
       "category             0.249771\n",
       "lnfans               0.815336\n",
       "lnlikes              0.995045\n",
       "lnviewers_y          0.957168\n",
       "date                 0.000656\n",
       "count                0.995113\n",
       "lnviewers_x          0.835832\n",
       "sum                  0.103659\n",
       "customer_unit_price  0.365565\n",
       "lnsales              0.467116"
      ]
     },
     "execution_count": 36,
     "metadata": {},
     "output_type": "execute_result"
    }
   ],
   "source": [
    "pd.DataFrame(faa_two.get_communalities(),index=df.columns)"
   ]
  },
  {
   "cell_type": "code",
   "execution_count": 37,
   "id": "1bd345f3",
   "metadata": {},
   "outputs": [
    {
     "data": {
      "text/plain": [
       "(array([3.33782897, 1.40417645, 1.19883687, 1.01630272, 0.9965953 ,\n",
       "        0.95918892, 0.72901068, 0.63768483, 0.45221226, 0.20664883,\n",
       "        0.06151417]),\n",
       " array([ 3.19222072e+00,  1.16785259e+00,  8.78229784e-01,  7.89300991e-01,\n",
       "         4.17420971e-01,  2.41959647e-01,  2.57401597e-02,  1.18661734e-02,\n",
       "         2.30454372e-03, -1.17226780e-02, -2.83257449e-02]))"
      ]
     },
     "execution_count": 37,
     "metadata": {},
     "output_type": "execute_result"
    }
   ],
   "source": [
    "#旋转后特征值\n",
    "faa_two.get_eigenvalues()"
   ]
  },
  {
   "cell_type": "code",
   "execution_count": 38,
   "id": "59c17395",
   "metadata": {},
   "outputs": [
    {
     "data": {
      "text/html": [
       "<div>\n",
       "<style scoped>\n",
       "    .dataframe tbody tr th:only-of-type {\n",
       "        vertical-align: middle;\n",
       "    }\n",
       "\n",
       "    .dataframe tbody tr th {\n",
       "        vertical-align: top;\n",
       "    }\n",
       "\n",
       "    .dataframe thead th {\n",
       "        text-align: right;\n",
       "    }\n",
       "</style>\n",
       "<table border=\"1\" class=\"dataframe\">\n",
       "  <thead>\n",
       "    <tr style=\"text-align: right;\">\n",
       "      <th></th>\n",
       "      <th>0</th>\n",
       "      <th>1</th>\n",
       "      <th>2</th>\n",
       "      <th>3</th>\n",
       "      <th>4</th>\n",
       "      <th>5</th>\n",
       "      <th>6</th>\n",
       "      <th>7</th>\n",
       "      <th>8</th>\n",
       "      <th>9</th>\n",
       "      <th>10</th>\n",
       "    </tr>\n",
       "  </thead>\n",
       "  <tbody>\n",
       "    <tr>\n",
       "      <th>0</th>\n",
       "      <td>3.337829</td>\n",
       "      <td>1.404176</td>\n",
       "      <td>1.198837</td>\n",
       "      <td>1.016303</td>\n",
       "      <td>0.996595</td>\n",
       "      <td>0.959189</td>\n",
       "      <td>0.729011</td>\n",
       "      <td>0.637685</td>\n",
       "      <td>0.452212</td>\n",
       "      <td>0.206649</td>\n",
       "      <td>0.061514</td>\n",
       "    </tr>\n",
       "    <tr>\n",
       "      <th>1</th>\n",
       "      <td>3.192221</td>\n",
       "      <td>1.167853</td>\n",
       "      <td>0.878230</td>\n",
       "      <td>0.789301</td>\n",
       "      <td>0.417421</td>\n",
       "      <td>0.241960</td>\n",
       "      <td>0.025740</td>\n",
       "      <td>0.011866</td>\n",
       "      <td>0.002305</td>\n",
       "      <td>-0.011723</td>\n",
       "      <td>-0.028326</td>\n",
       "    </tr>\n",
       "  </tbody>\n",
       "</table>\n",
       "</div>"
      ],
      "text/plain": [
       "         0         1         2         3         4         5         6   \\\n",
       "0  3.337829  1.404176  1.198837  1.016303  0.996595  0.959189  0.729011   \n",
       "1  3.192221  1.167853  0.878230  0.789301  0.417421  0.241960  0.025740   \n",
       "\n",
       "         7         8         9         10  \n",
       "0  0.637685  0.452212  0.206649  0.061514  \n",
       "1  0.011866  0.002305 -0.011723 -0.028326  "
      ]
     },
     "execution_count": 38,
     "metadata": {},
     "output_type": "execute_result"
    }
   ],
   "source": [
    "pd.DataFrame(faa_two.get_eigenvalues())"
   ]
  },
  {
   "cell_type": "code",
   "execution_count": 39,
   "id": "9c3b360d",
   "metadata": {},
   "outputs": [
    {
     "data": {
      "text/html": [
       "<div>\n",
       "<style scoped>\n",
       "    .dataframe tbody tr th:only-of-type {\n",
       "        vertical-align: middle;\n",
       "    }\n",
       "\n",
       "    .dataframe tbody tr th {\n",
       "        vertical-align: top;\n",
       "    }\n",
       "\n",
       "    .dataframe thead th {\n",
       "        text-align: right;\n",
       "    }\n",
       "</style>\n",
       "<table border=\"1\" class=\"dataframe\">\n",
       "  <thead>\n",
       "    <tr style=\"text-align: right;\">\n",
       "      <th></th>\n",
       "      <th>0</th>\n",
       "      <th>1</th>\n",
       "      <th>2</th>\n",
       "      <th>3</th>\n",
       "      <th>4</th>\n",
       "      <th>5</th>\n",
       "    </tr>\n",
       "  </thead>\n",
       "  <tbody>\n",
       "    <tr>\n",
       "      <th>ID</th>\n",
       "      <td>-0.939916</td>\n",
       "      <td>-0.095905</td>\n",
       "      <td>-0.046166</td>\n",
       "      <td>0.000601</td>\n",
       "      <td>-0.080675</td>\n",
       "      <td>0.017498</td>\n",
       "    </tr>\n",
       "    <tr>\n",
       "      <th>category</th>\n",
       "      <td>-0.203394</td>\n",
       "      <td>0.417296</td>\n",
       "      <td>0.101331</td>\n",
       "      <td>-0.126524</td>\n",
       "      <td>0.081189</td>\n",
       "      <td>0.037396</td>\n",
       "    </tr>\n",
       "    <tr>\n",
       "      <th>lnfans</th>\n",
       "      <td>0.133310</td>\n",
       "      <td>-0.153584</td>\n",
       "      <td>0.077653</td>\n",
       "      <td>0.874819</td>\n",
       "      <td>0.005279</td>\n",
       "      <td>0.051091</td>\n",
       "    </tr>\n",
       "    <tr>\n",
       "      <th>lnlikes</th>\n",
       "      <td>0.201733</td>\n",
       "      <td>0.128254</td>\n",
       "      <td>0.959857</td>\n",
       "      <td>0.006239</td>\n",
       "      <td>0.124029</td>\n",
       "      <td>0.033943</td>\n",
       "    </tr>\n",
       "    <tr>\n",
       "      <th>lnviewers_y</th>\n",
       "      <td>0.907302</td>\n",
       "      <td>-0.021547</td>\n",
       "      <td>0.192269</td>\n",
       "      <td>0.148202</td>\n",
       "      <td>0.272975</td>\n",
       "      <td>-0.007702</td>\n",
       "    </tr>\n",
       "    <tr>\n",
       "      <th>date</th>\n",
       "      <td>0.005610</td>\n",
       "      <td>0.003073</td>\n",
       "      <td>-0.001331</td>\n",
       "      <td>-0.000332</td>\n",
       "      <td>0.018811</td>\n",
       "      <td>-0.016102</td>\n",
       "    </tr>\n",
       "    <tr>\n",
       "      <th>count</th>\n",
       "      <td>0.339623</td>\n",
       "      <td>0.898629</td>\n",
       "      <td>0.013397</td>\n",
       "      <td>0.190581</td>\n",
       "      <td>-0.174443</td>\n",
       "      <td>-0.072827</td>\n",
       "    </tr>\n",
       "    <tr>\n",
       "      <th>lnviewers_x</th>\n",
       "      <td>0.667346</td>\n",
       "      <td>-0.105254</td>\n",
       "      <td>0.189555</td>\n",
       "      <td>0.233866</td>\n",
       "      <td>0.530489</td>\n",
       "      <td>0.085793</td>\n",
       "    </tr>\n",
       "    <tr>\n",
       "      <th>sum</th>\n",
       "      <td>0.015326</td>\n",
       "      <td>0.085567</td>\n",
       "      <td>-0.032317</td>\n",
       "      <td>0.276524</td>\n",
       "      <td>0.093009</td>\n",
       "      <td>-0.099705</td>\n",
       "    </tr>\n",
       "    <tr>\n",
       "      <th>customer_unit_price</th>\n",
       "      <td>0.040215</td>\n",
       "      <td>0.014382</td>\n",
       "      <td>0.010565</td>\n",
       "      <td>-0.070748</td>\n",
       "      <td>-0.066503</td>\n",
       "      <td>0.595148</td>\n",
       "    </tr>\n",
       "    <tr>\n",
       "      <th>lnsales</th>\n",
       "      <td>0.293103</td>\n",
       "      <td>-0.082683</td>\n",
       "      <td>0.196469</td>\n",
       "      <td>0.188300</td>\n",
       "      <td>0.537612</td>\n",
       "      <td>-0.106236</td>\n",
       "    </tr>\n",
       "  </tbody>\n",
       "</table>\n",
       "</div>"
      ],
      "text/plain": [
       "                            0         1         2         3         4  \\\n",
       "ID                  -0.939916 -0.095905 -0.046166  0.000601 -0.080675   \n",
       "category            -0.203394  0.417296  0.101331 -0.126524  0.081189   \n",
       "lnfans               0.133310 -0.153584  0.077653  0.874819  0.005279   \n",
       "lnlikes              0.201733  0.128254  0.959857  0.006239  0.124029   \n",
       "lnviewers_y          0.907302 -0.021547  0.192269  0.148202  0.272975   \n",
       "date                 0.005610  0.003073 -0.001331 -0.000332  0.018811   \n",
       "count                0.339623  0.898629  0.013397  0.190581 -0.174443   \n",
       "lnviewers_x          0.667346 -0.105254  0.189555  0.233866  0.530489   \n",
       "sum                  0.015326  0.085567 -0.032317  0.276524  0.093009   \n",
       "customer_unit_price  0.040215  0.014382  0.010565 -0.070748 -0.066503   \n",
       "lnsales              0.293103 -0.082683  0.196469  0.188300  0.537612   \n",
       "\n",
       "                            5  \n",
       "ID                   0.017498  \n",
       "category             0.037396  \n",
       "lnfans               0.051091  \n",
       "lnlikes              0.033943  \n",
       "lnviewers_y         -0.007702  \n",
       "date                -0.016102  \n",
       "count               -0.072827  \n",
       "lnviewers_x          0.085793  \n",
       "sum                 -0.099705  \n",
       "customer_unit_price  0.595148  \n",
       "lnsales             -0.106236  "
      ]
     },
     "execution_count": 39,
     "metadata": {},
     "output_type": "execute_result"
    }
   ],
   "source": [
    "#成分矩阵\n",
    "# 变量个数*因子个数\n",
    "faa_two.loadings_\n",
    "pd.DataFrame(faa_two.loadings_,index=df.columns)"
   ]
  },
  {
   "cell_type": "code",
   "execution_count": 40,
   "id": "6f9e48c0",
   "metadata": {},
   "outputs": [
    {
     "data": {
      "text/plain": [
       "(array([2.45496446, 1.05682169, 1.05259066, 1.01126222, 0.71732959,\n",
       "        0.39387853]),\n",
       " array([0.22317859, 0.0960747 , 0.09569006, 0.09193293, 0.06521178,\n",
       "        0.03580714]),\n",
       " array([0.22317859, 0.31925329, 0.41494335, 0.50687628, 0.57208806,\n",
       "        0.6078952 ]))"
      ]
     },
     "execution_count": 40,
     "metadata": {},
     "output_type": "execute_result"
    }
   ],
   "source": [
    "#总方差贡献\n",
    "faa_two.get_factor_variance()"
   ]
  },
  {
   "cell_type": "markdown",
   "id": "74c9f00a",
   "metadata": {},
   "source": [
    "### 6.隐藏变量可视化\n",
    "### 为了更直观地观察每个隐藏变量和哪些特征的关系比较大，进行可视化展示，为了方便取上面相关系数的绝对值："
   ]
  },
  {
   "cell_type": "code",
   "execution_count": 41,
   "id": "2aa098c6",
   "metadata": {},
   "outputs": [
    {
     "name": "stdout",
     "output_type": "stream",
     "text": [
      "                            0         1         2         3         4  \\\n",
      "ID                   0.939916  0.095905  0.046166  0.000601  0.080675   \n",
      "category             0.203394  0.417296  0.101331  0.126524  0.081189   \n",
      "lnfans               0.133310  0.153584  0.077653  0.874819  0.005279   \n",
      "lnlikes              0.201733  0.128254  0.959857  0.006239  0.124029   \n",
      "lnviewers_y          0.907302  0.021547  0.192269  0.148202  0.272975   \n",
      "date                 0.005610  0.003073  0.001331  0.000332  0.018811   \n",
      "count                0.339623  0.898629  0.013397  0.190581  0.174443   \n",
      "lnviewers_x          0.667346  0.105254  0.189555  0.233866  0.530489   \n",
      "sum                  0.015326  0.085567  0.032317  0.276524  0.093009   \n",
      "customer_unit_price  0.040215  0.014382  0.010565  0.070748  0.066503   \n",
      "lnsales              0.293103  0.082683  0.196469  0.188300  0.537612   \n",
      "\n",
      "                            5  \n",
      "ID                   0.017498  \n",
      "category             0.037396  \n",
      "lnfans               0.051091  \n",
      "lnlikes              0.033943  \n",
      "lnviewers_y          0.007702  \n",
      "date                 0.016102  \n",
      "count                0.072827  \n",
      "lnviewers_x          0.085793  \n",
      "sum                  0.099705  \n",
      "customer_unit_price  0.595148  \n",
      "lnsales              0.106236  \n"
     ]
    }
   ],
   "source": [
    "df1 = pd.DataFrame(np.abs(faa_two.loadings_),index=df.columns)\n",
    "print(df1)"
   ]
  },
  {
   "cell_type": "code",
   "execution_count": 42,
   "id": "f77eecec",
   "metadata": {},
   "outputs": [
    {
     "data": {
      "image/png": "[encoded data removed]",
      "text/plain": [
       "<Figure size 1008x1008 with 2 Axes>"
      ]
     },
     "metadata": {
      "needs_background": "light"
     },
     "output_type": "display_data"
    }
   ],
   "source": [
    "# 绘图\n",
    " \n",
    "plt.figure(figsize = (14,14))\n",
    "ax = sns.heatmap(df1, annot=True, cmap=\"BuPu\")\n",
    " \n",
    "# 设置y轴字体大小\n",
    "ax.yaxis.set_tick_params(labelsize=15)\n",
    "plt.title(\"Factor Analysis\", fontsize=\"xx-large\")\n",
    " \n",
    "# 设置y轴标签\n",
    "plt.ylabel(\"Sepal Width\", fontsize=\"xx-large\")\n",
    "# 显示图片\n",
    "plt.show()\n",
    " \n",
    "# 保存图片\n",
    "# plt.savefig(\"factorAnalysis\", dpi=500)"
   ]
  },
  {
   "cell_type": "code",
   "execution_count": 45,
   "id": "363b4bad",
   "metadata": {},
   "outputs": [
    {
     "data": {
      "text/plain": [
       "array([[-0.45387659,  0.92419031, -0.12585135, -1.25490725,  0.46940535,\n",
       "         0.04918079],\n",
       "       [-0.52776255, -2.052337  , -0.99878867, -0.36763734,  0.16287661,\n",
       "         0.07679612],\n",
       "       [-1.06531776,  0.98146596,  0.25306822, -0.40833173,  0.60661745,\n",
       "         0.2353891 ],\n",
       "       ...,\n",
       "       [ 0.19538837,  1.90474794, -0.79342493,  0.21762713, -0.95062528,\n",
       "        -0.25078947],\n",
       "       [-0.22140211, -0.98792709,  0.12123692, -1.06623198, -0.55977968,\n",
       "        -0.09413517],\n",
       "       [-0.41242594,  0.26440519, -1.47935046,  0.50883179, -0.50548957,\n",
       "         0.12635784]])"
      ]
     },
     "execution_count": 45,
     "metadata": {},
     "output_type": "execute_result"
    }
   ],
   "source": [
    "#转成新变量\n",
    "faa_two.transform(df)"
   ]
  },
  {
   "cell_type": "code",
   "execution_count": 46,
   "id": "216d7b3e",
   "metadata": {
    "scrolled": true
   },
   "outputs": [
    {
     "name": "stdout",
     "output_type": "stream",
     "text": [
      "              0         1         2         3         4         5\n",
      "0     -0.453877  0.924190 -0.125851 -1.254907  0.469405  0.049181\n",
      "1     -0.527763 -2.052337 -0.998789 -0.367637  0.162877  0.076796\n",
      "2     -1.065318  0.981466  0.253068 -0.408332  0.606617  0.235389\n",
      "3      0.357438  1.046075 -0.916504  0.123184  0.112600 -0.191495\n",
      "4     -0.534067  0.240811 -1.341275  1.315875 -0.371348 -0.076551\n",
      "...         ...       ...       ...       ...       ...       ...\n",
      "11828 -0.090158  1.914325 -0.484561 -0.279866 -0.097752 -0.221338\n",
      "11829  0.070561 -0.174302  0.544070  1.707671 -0.660169  0.147146\n",
      "11830  0.195388  1.904748 -0.793425  0.217627 -0.950625 -0.250789\n",
      "11831 -0.221402 -0.987927  0.121237 -1.066232 -0.559780 -0.094135\n",
      "11832 -0.412426  0.264405 -1.479350  0.508832 -0.505490  0.126358\n",
      "\n",
      "[11833 rows x 6 columns]\n"
     ]
    }
   ],
   "source": [
    "df2 = pd.DataFrame(faa_two.transform(df))\n",
    "print(df2)"
   ]
  },
  {
   "cell_type": "code",
   "execution_count": null,
   "id": "331c2cd6",
   "metadata": {},
   "outputs": [],
   "source": [
    "# 计算因子得分（回归方法）（系数矩阵的逆乘以因子载荷矩阵）\n",
    "f_corr = df.corr()# 皮尔逊相关系数\n",
    "X1 = np.mat(f_corr)\n",
    "X1 = np.linalg.inv(X1)\n",
    "factor_score_weight = np.dot(X1, df1)\n",
    "factor_score_weight = pd.DataFrame(factor_score_weight)\n",
    "col = []\n",
    "for i in range(N):\n",
    "    col.append(\"factor\" + str(i + 1))\n",
    "factor_score_weight.columns = col\n",
    "factor_score_weight.index = f_corr.columns\n",
    "print(\"因子得分：\\n\", factor_score_weight)"
   ]
  },
  {
   "cell_type": "code",
   "execution_count": null,
   "id": "4d4ee70a",
   "metadata": {},
   "outputs": [],
   "source": []
  }
 ],
 "metadata": {
  "kernelspec": {
   "display_name": "Python 3",
   "language": "python",
   "name": "python3"
  },
  "language_info": {
   "codemirror_mode": {
    "name": "ipython",
    "version": 3
   },
   "file_extension": ".py",
   "mimetype": "text/x-python",
   "name": "python",
   "nbconvert_exporter": "python",
   "pygments_lexer": "ipython3",
   "version": "3.8.8"
  }
 },
 "nbformat": 4,
 "nbformat_minor": 5
}
