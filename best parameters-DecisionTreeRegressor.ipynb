{
 "cells": [
  {
   "cell_type": "code",
   "execution_count": 2,
   "metadata": {},
   "outputs": [],
   "source": [
    "import numpy as np\n",
    "import pandas as pd\n",
    "import matplotlib as mpl\n",
    "import matplotlib.pyplot as plt\n",
    "import warnings  # 警告处理\n",
    "\n",
    "from sklearn import tree\n",
    "from sklearn.tree import DecisionTreeRegressor  # 回归决策树模型\n",
    "from sklearn.model_selection import train_test_split  # 数据划分\n",
    "from sklearn.preprocessing import MinMaxScaler  # 数据归一化\n",
    "from sklearn.decomposition import PCA  # 主成分分析\n",
    "from sklearn.pipeline import Pipeline  # 管道\n",
    "from sklearn.model_selection import GridSearchCV  # 网格搜索交叉验证，用于选择最优的参数\n"
   ]
  },
  {
   "cell_type": "code",
   "execution_count": 3,
   "metadata": {},
   "outputs": [],
   "source": [
    "# 设置字符集，防止中文乱码\n",
    "mpl.rcParams['font.sans-serif'] = [u'simHei']\n",
    "mpl.rcParams['axes.unicode_minus'] = False\n",
    "# 忽略警告\n",
    "warnings.filterwarnings('ignore', category=FutureWarning)\n",
    "\n",
    "# 用于预处理数据\n",
    "def notEmpty(s):\n",
    "    return s != ''"
   ]
  },
  {
   "cell_type": "code",
   "execution_count": 5,
   "metadata": {},
   "outputs": [],
   "source": [
    "# 1.读取数据\n",
    "names = ['CRIM','ZN', 'INDUS','CHAS','NOX','RM','AGE','DIS','RAD','TAX','PTRATIO','B','LSTAT']\n",
    "path = \"datas/boston_housing.data\"\n",
    "# 由于每条数据的格式不统一，所以可以先按一行一条记录的方式来读取，然后再进行数据预处理\n",
    "fd = pd.read_csv(path, header = None)  # header = None表示没有数据对应的名称，可以给数据加上\n"
   ]
  },
  {
   "cell_type": "code",
   "execution_count": 6,
   "metadata": {},
   "outputs": [],
   "source": [
    "# 2.数据处理\n",
    "data = np.empty((len(fd), 14))  # 生成形状为[len(fd), 14]的空数组\n",
    "# 对每条记录依次处理\n",
    "for i, d in enumerate(fd.values):  # enumerate生成一列索引i(表示fd中的每一条记录), d为其元素(此处d就是fd的一条记录内容)\n",
    "    d = map(float, filter(notEmpty, d[0].split(' '))) # filter一个函数，一个list\n",
    "    data[i] = list(d)\n",
    "    # 遍历完所有数据，数据也就处理好了\n"
   ]
  },
  {
   "cell_type": "code",
   "execution_count": 7,
   "metadata": {},
   "outputs": [],
   "source": [
    "# 3.划分数据\n",
    "X, Y = np.split(data, (13,), axis=1)  # 前13个数据划为X，最后一个划为Y\n",
    "Y = Y.ravel()"
   ]
  },
  {
   "cell_type": "code",
   "execution_count": 8,
   "metadata": {},
   "outputs": [
    {
     "name": "stdout",
     "output_type": "stream",
     "text": [
      "训练数据集样本数目：404, 测试数据集样本数目：102\n"
     ]
    }
   ],
   "source": [
    "# 4.数据分割\n",
    "X_train, X_test, Y_train, Y_test = train_test_split(X, Y, test_size=0.2, random_state=14)\n",
    "print (\"训练数据集样本数目：%d, 测试数据集样本数目：%d\" % (X_train.shape[0], X_test.shape[0]))\n"
   ]
  },
  {
   "cell_type": "code",
   "execution_count": 9,
   "metadata": {},
   "outputs": [],
   "source": [
    "# 5.参数优化\n",
    "pipes = [\n",
    "\tPipeline([\n",
    "\t\t\t('mms', MinMaxScaler()),  # 归一化处理\n",
    "\t\t\t('pca', PCA()),  # 降维\n",
    "\t\t\t('decision', DecisionTreeRegressor(criterion='mse'))  # 回归决策树模型，使用均方误差\n",
    "\t\t]),\n",
    "\tPipeline([\n",
    "\t\t\t('mms', MinMaxScaler()),  # 归一化处理\n",
    "\t\t\t('decision', DecisionTreeRegressor(criterion='mse'))  # 回归决策树模型\n",
    "\t\t]),\n",
    "\tPipeline([\n",
    "\t\t\t('decision', DecisionTreeRegressor(criterion='mse'))  # 回归决策树模型\n",
    "\t\t])\n",
    "]\n",
    "# 模型可用参数\n",
    "parameters = [\n",
    "\t{\n",
    "\t\"pca__n_components\": [0.25, 0.5, 0.75, 1],\n",
    "\t\"decision__max_depth\": np.linspace(1, 20, 20).astype(np.int8)\n",
    "\t},\n",
    "\t{\n",
    "\t\"decision__max_depth\": np.linspace(1, 20, 20).astype(np.int8)\n",
    "\t},\n",
    "\t{\n",
    "\t\"decision__max_depth\": np.linspace(1, 20, 20).astype(np.int8)\n",
    "\t}\n",
    "]\n"
   ]
  },
  {
   "cell_type": "code",
   "execution_count": 10,
   "metadata": {},
   "outputs": [
    {
     "name": "stdout",
     "output_type": "stream",
     "text": [
      "0 score值: 0.3827446877541084 最优参数列表: {'decision__max_depth': 5, 'pca__n_components': 0.75}\n",
      "1 score值: 0.7757324111598459 最优参数列表: {'decision__max_depth': 10}\n",
      "2 score值: 0.7850430578301115 最优参数列表: {'decision__max_depth': 9}\n"
     ]
    }
   ],
   "source": [
    "# 6.模型训练\n",
    "for t in range(3):  # 遍历管道\n",
    "    pipe = pipes[t]  # 选择管道\n",
    "    gscv = GridSearchCV(pipe, param_grid=parameters[t])  # 构建模型\n",
    "    gscv.fit(X_train, Y_train)  # 训练模型\n",
    "    print (t,\"score值:\",gscv.best_score_,\"最优参数列表:\", gscv.best_params_)\n"
   ]
  },
  {
   "cell_type": "code",
   "execution_count": 13,
   "metadata": {},
   "outputs": [
    {
     "name": "stdout",
     "output_type": "stream",
     "text": [
      "正确率: 0.8024192320760484\n"
     ]
    }
   ],
   "source": [
    "# 7.使用最优模型参数查看正确率\n",
    "dtr = DecisionTreeRegressor(criterion='mse', max_depth=9)\n",
    "X_train = mms_best.fit_transform(X_train, Y_train)\n",
    "X_test = mms_best.transform(X_test)\n",
    "dtr.fit(X_train, Y_train)\n",
    "print (\"正确率:\", dtr.score(X_test, Y_test))"
   ]
  },
  {
   "cell_type": "code",
   "execution_count": null,
   "metadata": {},
   "outputs": [],
   "source": []
  }
 ],
 "metadata": {
  "kernelspec": {
   "display_name": "Python 3",
   "language": "python",
   "name": "python3"
  },
  "language_info": {
   "codemirror_mode": {
    "name": "ipython",
    "version": 3
   },
   "file_extension": ".py",
   "mimetype": "text/x-python",
   "name": "python",
   "nbconvert_exporter": "python",
   "pygments_lexer": "ipython3",
   "version": "3.8.8"
  }
 },
 "nbformat": 4,
 "nbformat_minor": 2
}
