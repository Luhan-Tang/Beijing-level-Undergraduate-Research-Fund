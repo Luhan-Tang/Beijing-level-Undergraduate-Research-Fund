{
 "cells": [
  {
   "cell_type": "markdown",
   "metadata": {},
   "source": [
    "## 实际应用：利用直播数据对直播带货交易额进行预测\n",
    "\n",
    "现在有数据：主播行业分类、主播日均粉丝数、主播日均点赞数、主播日均观看次数、直播日期、累计直播次数、直播观看次数、商品数、客单价、销量等10个自变量数据；销售额为因变量，为连续性变量。\n",
    "\n",
    "研究的问题：利用以上10个自变量来预测销售额数据。\n",
    "\n",
    "采取的办法：回归决策树及随机森林。"
   ]
  },
  {
   "cell_type": "markdown",
   "metadata": {},
   "source": [
    "# 一、决策树"
   ]
  },
  {
   "cell_type": "markdown",
   "metadata": {},
   "source": [
    "## 1、构建决策树预处理"
   ]
  },
  {
   "cell_type": "code",
   "execution_count": 2,
   "metadata": {},
   "outputs": [],
   "source": [
    "# 引入包和函数\n",
    "\n",
    "import numpy as np\n",
    "import pandas as pd\n",
    "import math\n",
    "\n",
    "import matplotlib as mpl\n",
    "import matplotlib.pyplot as plt\n",
    "\n",
    "import warnings  # 警告处理\n",
    "\n",
    "from sklearn import tree\n",
    "from sklearn.tree import DecisionTreeRegressor  # 回归决策树模型\n",
    "from sklearn.model_selection import train_test_split  # 数据分割\n",
    "\n",
    "from sklearn.preprocessing import StandardScaler  # 数据归一化\n",
    "from sklearn.decomposition import PCA  # 主成分分析（降维）\n",
    "from sklearn.pipeline import Pipeline  # 管道（最优参数选择）\n",
    "from sklearn.model_selection import GridSearchCV  # 网格搜索交叉验证，用于选择最优的参数"
   ]
  },
  {
   "cell_type": "code",
   "execution_count": 3,
   "metadata": {},
   "outputs": [],
   "source": [
    "# 设置字符集，防止中文乱码\n",
    "mpl.rcParams['font.sans-serif']=[u'simHei']\n",
    "mpl.rcParams['axes.unicode_minus']=False"
   ]
  },
  {
   "cell_type": "code",
   "execution_count": 4,
   "metadata": {},
   "outputs": [
    {
     "data": {
      "text/html": [
       "<div>\n",
       "<style scoped>\n",
       "    .dataframe tbody tr th:only-of-type {\n",
       "        vertical-align: middle;\n",
       "    }\n",
       "\n",
       "    .dataframe tbody tr th {\n",
       "        vertical-align: top;\n",
       "    }\n",
       "\n",
       "    .dataframe thead th {\n",
       "        text-align: right;\n",
       "    }\n",
       "</style>\n",
       "<table border=\"1\" class=\"dataframe\">\n",
       "  <thead>\n",
       "    <tr style=\"text-align: right;\">\n",
       "      <th></th>\n",
       "      <th>Unnamed: 0</th>\n",
       "      <th>ID</th>\n",
       "      <th>category</th>\n",
       "      <th>lnfans</th>\n",
       "      <th>lnlikes</th>\n",
       "      <th>lnviewers_y</th>\n",
       "      <th>date</th>\n",
       "      <th>count</th>\n",
       "      <th>lnviewers_x</th>\n",
       "      <th>sum</th>\n",
       "      <th>customer_unit_price</th>\n",
       "      <th>lnsales</th>\n",
       "      <th>lnsales_value</th>\n",
       "    </tr>\n",
       "  </thead>\n",
       "  <tbody>\n",
       "    <tr>\n",
       "      <th>0</th>\n",
       "      <td>0</td>\n",
       "      <td>868</td>\n",
       "      <td>2</td>\n",
       "      <td>13.493433</td>\n",
       "      <td>9.949342</td>\n",
       "      <td>11.521286</td>\n",
       "      <td>20211128</td>\n",
       "      <td>35</td>\n",
       "      <td>11.140295</td>\n",
       "      <td>37</td>\n",
       "      <td>106.34</td>\n",
       "      <td>5.998937</td>\n",
       "      <td>10.665566</td>\n",
       "    </tr>\n",
       "    <tr>\n",
       "      <th>1</th>\n",
       "      <td>1</td>\n",
       "      <td>803</td>\n",
       "      <td>6</td>\n",
       "      <td>11.984684</td>\n",
       "      <td>11.896345</td>\n",
       "      <td>11.606751</td>\n",
       "      <td>20211204</td>\n",
       "      <td>20</td>\n",
       "      <td>11.244955</td>\n",
       "      <td>101</td>\n",
       "      <td>398.92</td>\n",
       "      <td>4.043051</td>\n",
       "      <td>10.031810</td>\n",
       "    </tr>\n",
       "    <tr>\n",
       "      <th>2</th>\n",
       "      <td>2</td>\n",
       "      <td>1027</td>\n",
       "      <td>2</td>\n",
       "      <td>13.942902</td>\n",
       "      <td>11.084015</td>\n",
       "      <td>11.237665</td>\n",
       "      <td>20211225</td>\n",
       "      <td>22</td>\n",
       "      <td>11.370371</td>\n",
       "      <td>264</td>\n",
       "      <td>373.34</td>\n",
       "      <td>4.510860</td>\n",
       "      <td>10.433351</td>\n",
       "    </tr>\n",
       "    <tr>\n",
       "      <th>3</th>\n",
       "      <td>3</td>\n",
       "      <td>764</td>\n",
       "      <td>3</td>\n",
       "      <td>11.655657</td>\n",
       "      <td>11.554499</td>\n",
       "      <td>11.672464</td>\n",
       "      <td>20211209</td>\n",
       "      <td>35</td>\n",
       "      <td>11.475846</td>\n",
       "      <td>66</td>\n",
       "      <td>9446.19</td>\n",
       "      <td>6.122493</td>\n",
       "      <td>15.275859</td>\n",
       "    </tr>\n",
       "    <tr>\n",
       "      <th>4</th>\n",
       "      <td>4</td>\n",
       "      <td>1421</td>\n",
       "      <td>2</td>\n",
       "      <td>15.158773</td>\n",
       "      <td>10.087222</td>\n",
       "      <td>10.589280</td>\n",
       "      <td>20211207</td>\n",
       "      <td>6</td>\n",
       "      <td>11.521320</td>\n",
       "      <td>179</td>\n",
       "      <td>174.80</td>\n",
       "      <td>5.081404</td>\n",
       "      <td>10.245054</td>\n",
       "    </tr>\n",
       "  </tbody>\n",
       "</table>\n",
       "</div>"
      ],
      "text/plain": [
       "   Unnamed: 0    ID  category     lnfans    lnlikes  lnviewers_y      date  \\\n",
       "0           0   868         2  13.493433   9.949342    11.521286  20211128   \n",
       "1           1   803         6  11.984684  11.896345    11.606751  20211204   \n",
       "2           2  1027         2  13.942902  11.084015    11.237665  20211225   \n",
       "3           3   764         3  11.655657  11.554499    11.672464  20211209   \n",
       "4           4  1421         2  15.158773  10.087222    10.589280  20211207   \n",
       "\n",
       "   count  lnviewers_x  sum  customer_unit_price   lnsales  lnsales_value  \n",
       "0     35    11.140295   37               106.34  5.998937      10.665566  \n",
       "1     20    11.244955  101               398.92  4.043051      10.031810  \n",
       "2     22    11.370371  264               373.34  4.510860      10.433351  \n",
       "3     35    11.475846   66              9446.19  6.122493      15.275859  \n",
       "4      6    11.521320  179               174.80  5.081404      10.245054  "
      ]
     },
     "execution_count": 4,
     "metadata": {},
     "output_type": "execute_result"
    }
   ],
   "source": [
    "# 1.数据引入\n",
    "fd=pd.read_csv('chang.csv')\n",
    "fd.head()"
   ]
  },
  {
   "cell_type": "code",
   "execution_count": 5,
   "metadata": {},
   "outputs": [
    {
     "name": "stdout",
     "output_type": "stream",
     "text": [
      "Index(['category', 'lnfans', 'lnlikes', 'lnviewers_y', 'date', 'count',\n",
      "       'lnviewers_x', 'sum', 'customer_unit_price', 'lnsales',\n",
      "       'lnsales_value'],\n",
      "      dtype='object')\n"
     ]
    },
    {
     "data": {
      "text/plain": [
       "array([[   2.        ,   13.49343302,    9.94934246, ...,  106.34      ,\n",
       "           5.99893656,   10.6655657 ],\n",
       "       [   6.        ,   11.9846838 ,   11.89634506, ...,  398.92      ,\n",
       "           4.04305127,   10.0318104 ],\n",
       "       [   2.        ,   13.94290239,   11.08401515, ...,  373.34      ,\n",
       "           4.51085951,   10.43335081],\n",
       "       ...,\n",
       "       [   2.        ,   12.87575314,   10.56430245, ...,  124.11      ,\n",
       "           5.60580207,   10.42695138],\n",
       "       [   2.        ,   12.07537723,   11.05748724, ...,   30.58      ,\n",
       "           5.64897424,    9.06919147],\n",
       "       [   2.        ,   13.4453624 ,    9.59155699, ..., 1144.75      ,\n",
       "           4.69134788,   11.73429144]])"
      ]
     },
     "execution_count": 5,
     "metadata": {},
     "output_type": "execute_result"
    }
   ],
   "source": [
    "# 2.数据处理\n",
    "\n",
    "#所有列都进入决策\n",
    "fd=fd[['category','lnfans', 'lnlikes', 'lnviewers_y','date', 'count', 'lnviewers_x', 'sum', 'customer_unit_price', 'lnsales','lnsales_value']]\n",
    "print(fd.columns) #获取特征名称\n",
    "\n",
    "fd=fd.dropna(axis=0,how='any') #处理缺失值 将含有缺失值的行去掉\n",
    "data = fd.values  #dataframe转换成一个array\n",
    "data"
   ]
  },
  {
   "cell_type": "code",
   "execution_count": 6,
   "metadata": {},
   "outputs": [
    {
     "name": "stdout",
     "output_type": "stream",
     "text": [
      "(14797,)\n",
      "样本数据量:14797, 特征个数：10\n",
      "target样本数据量:14797\n"
     ]
    }
   ],
   "source": [
    "# 3.划分数据\n",
    "X, Y = np.split(data, (10,), axis=1)  # 前10个数据划为X，最后一个划为Y\n",
    "# 将Y拉直为一个扁平的数组\n",
    "Y = Y.ravel()\n",
    "# 查看下数据\n",
    "print(Y.shape)\n",
    "print (\"样本数据量:%d, 特征个数：%d\" % X.shape)\n",
    "print (\"target样本数据量:%d\" % Y.shape[0])"
   ]
  },
  {
   "cell_type": "code",
   "execution_count": 7,
   "metadata": {},
   "outputs": [
    {
     "name": "stdout",
     "output_type": "stream",
     "text": [
      "训练数据集样本数目：11837, 测试数据集样本数目：2960\n"
     ]
    }
   ],
   "source": [
    "# 4.数据分割\n",
    "\n",
    "from sklearn.model_selection import train_test_split  # 数据分割\n",
    "\n",
    "X_train, X_test, Y_train, Y_test = train_test_split(X, Y, test_size=0.2, random_state=14)#random_state 储存随机数种子 使得得到的是同一个随机数\n",
    "print (\"训练数据集样本数目：%d, 测试数据集样本数目：%d\" % (X_train.shape[0], X_test.shape[0]))\n"
   ]
  },
  {
   "cell_type": "markdown",
   "metadata": {},
   "source": [
    "## 2、不同深度max_depth对应的正确率"
   ]
  },
  {
   "cell_type": "code",
   "execution_count": 8,
   "metadata": {},
   "outputs": [
    {
     "name": "stdout",
     "output_type": "stream",
     "text": [
      "1深度，正确率0.33540，R-square:0.35057\n",
      "2深度，正确率0.59226，R-square:0.61441\n",
      "3深度，正确率0.73294，R-square:0.74994\n",
      "4深度，正确率0.84290，R-square:0.85677\n",
      "5深度，正确率0.91359，R-square:0.92440\n",
      "6深度，正确率0.95259，R-square:0.96165\n",
      "7深度，正确率0.97406，R-square:0.98045\n",
      "8深度，正确率0.98397，R-square:0.99090\n",
      "9深度，正确率0.99046，R-square:0.99570\n",
      "10深度，正确率0.99319，R-square:0.99809\n",
      "11深度，正确率0.99432，R-square:0.99916\n",
      "12深度，正确率0.99473，R-square:0.99967\n",
      "13深度，正确率0.99523，R-square:0.99988\n",
      "14深度，正确率0.99504，R-square:0.99996\n",
      "15深度，正确率0.99506，R-square:0.99999\n",
      "16深度，正确率0.99510，R-square:1.00000\n",
      "17深度，正确率0.99475，R-square:1.00000\n",
      "18深度，正确率0.99498，R-square:1.00000\n",
      "19深度，正确率0.99505，R-square:1.00000\n"
     ]
    }
   ],
   "source": [
    "# 5、模型训构建，训练，评估\n",
    "\n",
    "from sklearn import tree\n",
    "from sklearn.tree import DecisionTreeRegressor  # 回归决策树模型\n",
    "\n",
    "depths = np.arange(1, 20)\n",
    "err_list1 = []\n",
    "err_list2 = []\n",
    "for d in depths:\n",
    "    clf = DecisionTreeRegressor(criterion='mse', max_depth=d)  # max_depth决策树深度\n",
    "    clf.fit(X_train, Y_train)\n",
    "    \n",
    "    score1 = clf.score(X_test, Y_test)\n",
    "    err1 = 1 - score1\n",
    "    score2 = clf.score(X_train, Y_train)\n",
    "    err2 = score2\n",
    "    err_list1.append(err1)\n",
    "    err_list2.append(err2)\n",
    "    print (\"%d深度，正确率%.5f，R-square:%.5f\" % (d, score1,score2))"
   ]
  },
  {
   "cell_type": "code",
   "execution_count": 9,
   "metadata": {},
   "outputs": [
    {
     "data": {
      "image/png": "[encoded data removed]",
      "text/plain": [
       "<Figure size 432x288 with 1 Axes>"
      ]
     },
     "metadata": {},
     "output_type": "display_data"
    }
   ],
   "source": [
    "## 6、画图\n",
    "plt.figure(facecolor='w')\n",
    "plt.plot(depths, err_list1, 'ro-', lw=3,label=u'错误率')\n",
    "plt.plot(depths, err_list2, 'go-', lw=3,label='R-square')\n",
    "plt.xlabel(u'决策树深度', fontsize=16)\n",
    "plt.ylabel(u'百分数', fontsize=16)\n",
    "plt.legend(loc = 'lower right')\n",
    "plt.grid(True)\n",
    "plt.title(u'不同树深度', fontsize=18)\n",
    "plt.show()"
   ]
  },
  {
   "cell_type": "markdown",
   "metadata": {},
   "source": [
    "## 3、参数优化"
   ]
  },
  {
   "cell_type": "code",
   "execution_count": 10,
   "metadata": {},
   "outputs": [
    {
     "name": "stdout",
     "output_type": "stream",
     "text": [
      "0 score值: 0.7032136833770742 最优参数列表: {'decision__max_depth': 13, 'pca__n_components': 0.75}\n",
      "1 score值: 0.9949152470867577 最优参数列表: {'decision__max_depth': 19}\n",
      "2 score值: 0.9949983481587201 最优参数列表: {'decision__max_depth': 18}\n"
     ]
    }
   ],
   "source": [
    "from sklearn.preprocessing import StandardScaler  # 数据归一化\n",
    "from sklearn.decomposition import PCA  # 主成分分析（降维）\n",
    "from sklearn.pipeline import Pipeline  # 管道（最优参数选择）\n",
    "from sklearn.model_selection import GridSearchCV  # 网格搜索交叉验证，用于选择最优的参数\n",
    "\n",
    "# 1.设定参数\n",
    "pipes = [\n",
    "\tPipeline([\n",
    "\t\t\t('mms', StandardScaler()),  # 归一化处理\n",
    "\t\t\t('pca', PCA()),  # 降维\n",
    "\t\t\t('decision', DecisionTreeRegressor(criterion='mse'))  # 回归决策树模型，使用均方误差\n",
    "\t\t]),\n",
    "\tPipeline([\n",
    "\t\t\t('mms', StandardScaler()),  # 归一化处理\n",
    "\t\t\t('decision', DecisionTreeRegressor(criterion='mse'))  # 回归决策树模型\n",
    "\t\t]),\n",
    "\tPipeline([\n",
    "\t\t\t('decision', DecisionTreeRegressor(criterion='mse'))  # 回归决策树模型\n",
    "\t\t])\n",
    "]\n",
    "# 模型可用参数\n",
    "parameters = [\n",
    "\t{\n",
    "\t\"pca__n_components\": [0.25, 0.5, 0.75, 1],\n",
    "\t\"decision__max_depth\": np.linspace(1, 20, 20).astype(np.int8)\n",
    "\t},\n",
    "\t{\n",
    "\t\"decision__max_depth\": np.linspace(1, 20, 20).astype(np.int8)\n",
    "\t},\n",
    "\t{\n",
    "\t\"decision__max_depth\": np.linspace(1, 20, 20).astype(np.int8)\n",
    "\t}\n",
    "]\n",
    "# 2.模型训练\n",
    "for t in range(3):  # 遍历管道\n",
    "    pipe = pipes[t]  # 选择管道\n",
    "    gscv = GridSearchCV(pipe, param_grid=parameters[t])  # 构建模型\n",
    "    gscv.fit(X_train, Y_train)  # 训练模型\n",
    "    print (t,\"score值:\",gscv.best_score_,\"最优参数列表:\", gscv.best_params_)\n"
   ]
  },
  {
   "cell_type": "markdown",
   "metadata": {},
   "source": [
    "## 4、建立不同深度决策树并计算R-square及正确率"
   ]
  },
  {
   "cell_type": "code",
   "execution_count": 14,
   "metadata": {},
   "outputs": [],
   "source": [
    "# 1、作图\n",
    "# 建立并训练模型\n",
    "clf_0 = DecisionTreeRegressor(criterion='mse',max_depth=10)\n",
    "clf_1 = DecisionTreeRegressor(criterion='mse',max_depth=11)\n",
    "clf_2 = DecisionTreeRegressor(criterion='mse',max_depth=12)\n",
    "clf_3 = DecisionTreeRegressor(criterion='mse',max_depth=13)\n",
    "clf_4 = DecisionTreeRegressor(criterion='mse',max_depth=14)\n",
    "# 训练模型\n",
    "clf_0.fit(X_train, Y_train)\n",
    "clf_1.fit(X_train, Y_train)\n",
    "clf_2.fit(X_train, Y_train)\n",
    "clf_3.fit(X_train, Y_train)\n",
    "clf_4.fit(X_train, Y_train)\n",
    "# 创建预测模拟数据\n",
    "y_0 = np.exp(clf_0.predict(X_test))\n",
    "y_1 =np.exp(clf_1.predict(X_test))\n",
    "y_2 =np.exp(clf_2.predict(X_test))\n",
    "y_3 =np.exp(clf_3.predict(X_test))\n",
    "y_4 =np.exp(clf_4.predict(X_test))\n"
   ]
  },
  {
   "cell_type": "code",
   "execution_count": 15,
   "metadata": {},
   "outputs": [
    {
     "data": {
      "image/png": "[encoded data removed]",
      "text/plain": [
       "<Figure size 1280x720 with 1 Axes>"
      ]
     },
     "metadata": {},
     "output_type": "display_data"
    },
    {
     "data": {
      "text/plain": [
       "<Figure size 432x288 with 0 Axes>"
      ]
     },
     "metadata": {},
     "output_type": "display_data"
    }
   ],
   "source": [
    "#作图\n",
    "plt.figure(figsize=(16,9),dpi=80,facecolor='w')\n",
    "\n",
    "ln_x_test = range(len(X_test))\n",
    "plt.plot(ln_x_test, np.exp(Y_test), 'r-', lw=2, label=u\"测试集真实数据\")\n",
    "\n",
    "plt.plot(ln_x_test, y_0, 'b-', lw=4, label=u'max_depth=10，$R^2$=%.3f,score=%.3f' % (clf_0.score(X_train, Y_train),clf_0.score(X_test, Y_test)),alpha=0.5)\n",
    "plt.plot(ln_x_test, y_1, 'y-', lw=4, label=u'max_depth=11，$R^2$=%.3f,score=%.3f' % (clf_1.score(X_train, Y_train),clf_1.score(X_test, Y_test)),alpha=0.5)\n",
    "plt.plot(ln_x_test, y_2, 'c-', lw=4, label=u'max_depth=12，$R^2$=%.3f,score=%.3f' % (clf_2.score(X_train, Y_train),clf_2.score(X_test, Y_test)),alpha=0.5)\n",
    "plt.plot(ln_x_test, y_3, 'g-', lw=4, label=u'max_depth=13，$R^2$=%.3f,score=%.3f' % (clf_3.score(X_train, Y_train),clf_3.score(X_test, Y_test)),alpha=0.5)\n",
    "plt.plot(ln_x_test, y_4, 'm-', lw=4, label=u'max_depth=14，$R^2$=%.3f,score=%.3f' % (clf_4.score(X_train, Y_train),clf_4.score(X_test, Y_test)),alpha=0.5)\n",
    "\n",
    "plt.xlabel(u'数据编码')\n",
    "plt.ylabel(u'成交额')\n",
    "plt.legend(loc = 'lower right')\n",
    "plt.grid(True)\n",
    "plt.title(u'决策树_直播交易额预测')\n",
    "plt.show()\n",
    "plt.savefig('figpath.png', dpi=400, bbox_inches='tight')"
   ]
  },
  {
   "cell_type": "code",
   "execution_count": 16,
   "metadata": {},
   "outputs": [
    {
     "data": {
      "text/plain": [
       "True"
      ]
     },
     "execution_count": 16,
     "metadata": {},
     "output_type": "execute_result"
    }
   ],
   "source": [
    "# 11.决策树可视化（导出决策树图）\n",
    "import pydotplus\n",
    "dot_data = tree.export_graphviz(clf_0, out_file=None,  \n",
    "                         filled=True, rounded=True,  \n",
    "                         special_characters=True)  \n",
    "graph = pydotplus.graph_from_dot_data(dot_data)  \n",
    "graph.write_svg('tree.svg')"
   ]
  },
  {
   "cell_type": "markdown",
   "metadata": {},
   "source": [
    "# 二、随机森林"
   ]
  },
  {
   "cell_type": "code",
   "execution_count": 17,
   "metadata": {},
   "outputs": [],
   "source": [
    "import numpy as np\n",
    "import matplotlib as mpl\n",
    "import matplotlib.pyplot as plt\n",
    "import pandas as pd\n",
    "import warnings  # 警告处理\n",
    "\n",
    "#from sklearn.linear_model.coordinate_descent import ConvergenceWarning  # 警告处理\n",
    "from sklearn.linear_model import LinearRegression, LassoCV, RidgeCV  # 回归模型\n",
    "from sklearn.tree import DecisionTreeRegressor  # 回归决策树模型\n",
    "from sklearn.model_selection import train_test_split  # 数据分割\n",
    "from sklearn.preprocessing import MinMaxScaler  # 数据归一化 (分类)\n",
    "from sklearn.preprocessing import StandardScaler  # 数据归一化(回归)\n",
    "\n",
    "from sklearn import tree\n",
    "from sklearn.decomposition import PCA  # 主成分分析\n",
    "from sklearn.pipeline import Pipeline  # 管道\n",
    "from sklearn.model_selection import GridSearchCV  # 网格搜索交叉验证，用于选择最优的参数\n",
    "\n",
    "from sklearn.preprocessing import label_binarize  # 数据二值化\n",
    "from sklearn.decomposition import PCA  # 降维\n",
    "from sklearn.ensemble import RandomForestClassifier  # 分类随机森林模型\n",
    "from sklearn.ensemble import RandomForestRegressor  # 回归随机森林模型\n",
    "from sklearn import metrics  # ROC/AUC\n",
    "\n",
    "# 设置字符集，防止中文乱码\n",
    "mpl.rcParams['font.sans-serif']=[u'simHei']\n",
    "mpl.rcParams['axes.unicode_minus']=False\n",
    "# 拦截异常\n",
    "#warnings.filterwarnings(action = 'ignore', category=ConvergenceWarning)"
   ]
  },
  {
   "cell_type": "code",
   "execution_count": 18,
   "metadata": {},
   "outputs": [
    {
     "name": "stdout",
     "output_type": "stream",
     "text": [
      "Index(['category', 'lnfans', 'lnlikes', 'lnviewers_y', 'date', 'count',\n",
      "       'lnviewers_x', 'sum', 'customer_unit_price', 'lnsales',\n",
      "       'lnsales_value'],\n",
      "      dtype='object')\n"
     ]
    }
   ],
   "source": [
    "# 1.数据引入\n",
    "fd=pd.read_csv('chang.csv')\n",
    "#所有列都进入决策\n",
    "fd=fd[['category','lnfans', 'lnlikes', 'lnviewers_y','date', 'count', 'lnviewers_x', 'sum', 'customer_unit_price', 'lnsales','lnsales_value']]\n",
    "print(fd.columns) #获取特征名称"
   ]
  },
  {
   "cell_type": "code",
   "execution_count": 19,
   "metadata": {},
   "outputs": [
    {
     "data": {
      "text/plain": [
       "array([[   2.        ,   13.49343302,    9.94934246, ...,  106.34      ,\n",
       "           5.99893656,   10.6655657 ],\n",
       "       [   6.        ,   11.9846838 ,   11.89634506, ...,  398.92      ,\n",
       "           4.04305127,   10.0318104 ],\n",
       "       [   2.        ,   13.94290239,   11.08401515, ...,  373.34      ,\n",
       "           4.51085951,   10.43335081],\n",
       "       ...,\n",
       "       [   2.        ,   12.87575314,   10.56430245, ...,  124.11      ,\n",
       "           5.60580207,   10.42695138],\n",
       "       [   2.        ,   12.07537723,   11.05748724, ...,   30.58      ,\n",
       "           5.64897424,    9.06919147],\n",
       "       [   2.        ,   13.4453624 ,    9.59155699, ..., 1144.75      ,\n",
       "           4.69134788,   11.73429144]])"
      ]
     },
     "execution_count": 19,
     "metadata": {},
     "output_type": "execute_result"
    }
   ],
   "source": [
    "# 2.数据处理\n",
    "fd=fd.dropna(axis=0,how='any')\n",
    "data = fd.values\n",
    "data"
   ]
  },
  {
   "cell_type": "code",
   "execution_count": 20,
   "metadata": {},
   "outputs": [
    {
     "name": "stdout",
     "output_type": "stream",
     "text": [
      "样本数据量:14797, 特征个数：10\n",
      "target样本数据量:14797\n"
     ]
    }
   ],
   "source": [
    "# 3.划分数据\n",
    "#所有变量进入预测\n",
    "names=['category', 'lnfans', 'lnlikes', 'lnviewers_y', 'date', 'count','lnviewers_x', 'sum', 'customer_unit_price', 'lnsales','lnsales_value']\n",
    "labels = fd[names[-1:]] # 标签(真实值/预测变量 Y)\n",
    "features= fd[names[0:-1]] # 特征值(解释变量 X)\n",
    "#查看下数据\n",
    "print (\"样本数据量:%d, 特征个数：%d\" % features.shape)\n",
    "print (\"target样本数据量:%d\" % labels.shape[0])"
   ]
  },
  {
   "cell_type": "code",
   "execution_count": 21,
   "metadata": {},
   "outputs": [
    {
     "name": "stdout",
     "output_type": "stream",
     "text": [
      "训练集特征: (11097, 10)\n",
      "训练集标签: (11097, 1)\n",
      "测试集特征: (3700, 10)\n",
      "测试集标签: (3700, 1)\n"
     ]
    }
   ],
   "source": [
    "# 4.数据分割\n",
    "train_features, test_features, train_labels, test_labels = train_test_split(features, labels, test_size = 0.25,random_state = 42)\n",
    "print('训练集特征:', train_features.shape)\n",
    "print('训练集标签:', train_labels.shape)\n",
    "print('测试集特征:', test_features.shape)\n",
    "print('测试集标签:', test_labels.shape)"
   ]
  },
  {
   "cell_type": "code",
   "execution_count": 22,
   "metadata": {},
   "outputs": [],
   "source": [
    "# 5.数据归一化(回归)\n",
    "from sklearn.preprocessing import StandardScaler  # 数据归一化(回归)\n",
    "ss = StandardScaler()  # 创建归一化模型\n",
    "train_features = ss.fit_transform(train_features, train_labels)  # 训练模型并转换数据\n",
    "test_features = ss.transform(test_features)  # 转换数据"
   ]
  },
  {
   "cell_type": "code",
   "execution_count": 24,
   "metadata": {},
   "outputs": [
    {
     "name": "stderr",
     "output_type": "stream",
     "text": [
      "D:\\Anaconda_exe\\lib\\site-packages\\ipykernel_launcher.py:8: DataConversionWarning: A column-vector y was passed when a 1d array was expected. Please change the shape of y to (n_samples,), for example using ravel().\n",
      "  \n"
     ]
    },
    {
     "name": "stdout",
     "output_type": "stream",
     "text": [
      "1深度，正确率0.35013，R-square:0.36054\n"
     ]
    },
    {
     "name": "stderr",
     "output_type": "stream",
     "text": [
      "D:\\Anaconda_exe\\lib\\site-packages\\ipykernel_launcher.py:8: DataConversionWarning: A column-vector y was passed when a 1d array was expected. Please change the shape of y to (n_samples,), for example using ravel().\n",
      "  \n"
     ]
    },
    {
     "name": "stdout",
     "output_type": "stream",
     "text": [
      "2深度，正确率0.62857，R-square:0.63681\n"
     ]
    },
    {
     "name": "stderr",
     "output_type": "stream",
     "text": [
      "D:\\Anaconda_exe\\lib\\site-packages\\ipykernel_launcher.py:8: DataConversionWarning: A column-vector y was passed when a 1d array was expected. Please change the shape of y to (n_samples,), for example using ravel().\n",
      "  \n"
     ]
    },
    {
     "name": "stdout",
     "output_type": "stream",
     "text": [
      "3深度，正确率0.77734，R-square:0.77724\n"
     ]
    },
    {
     "name": "stderr",
     "output_type": "stream",
     "text": [
      "D:\\Anaconda_exe\\lib\\site-packages\\ipykernel_launcher.py:8: DataConversionWarning: A column-vector y was passed when a 1d array was expected. Please change the shape of y to (n_samples,), for example using ravel().\n",
      "  \n"
     ]
    },
    {
     "name": "stdout",
     "output_type": "stream",
     "text": [
      "4深度，正确率0.88880，R-square:0.89399\n"
     ]
    },
    {
     "name": "stderr",
     "output_type": "stream",
     "text": [
      "D:\\Anaconda_exe\\lib\\site-packages\\ipykernel_launcher.py:8: DataConversionWarning: A column-vector y was passed when a 1d array was expected. Please change the shape of y to (n_samples,), for example using ravel().\n",
      "  \n"
     ]
    },
    {
     "name": "stdout",
     "output_type": "stream",
     "text": [
      "5深度，正确率0.94889，R-square:0.95470\n"
     ]
    },
    {
     "name": "stderr",
     "output_type": "stream",
     "text": [
      "D:\\Anaconda_exe\\lib\\site-packages\\ipykernel_launcher.py:8: DataConversionWarning: A column-vector y was passed when a 1d array was expected. Please change the shape of y to (n_samples,), for example using ravel().\n",
      "  \n"
     ]
    },
    {
     "name": "stdout",
     "output_type": "stream",
     "text": [
      "6深度，正确率0.97768，R-square:0.98276\n"
     ]
    },
    {
     "name": "stderr",
     "output_type": "stream",
     "text": [
      "D:\\Anaconda_exe\\lib\\site-packages\\ipykernel_launcher.py:8: DataConversionWarning: A column-vector y was passed when a 1d array was expected. Please change the shape of y to (n_samples,), for example using ravel().\n",
      "  \n"
     ]
    },
    {
     "name": "stdout",
     "output_type": "stream",
     "text": [
      "7深度，正确率0.98992，R-square:0.99373\n"
     ]
    },
    {
     "name": "stderr",
     "output_type": "stream",
     "text": [
      "D:\\Anaconda_exe\\lib\\site-packages\\ipykernel_launcher.py:8: DataConversionWarning: A column-vector y was passed when a 1d array was expected. Please change the shape of y to (n_samples,), for example using ravel().\n",
      "  \n"
     ]
    },
    {
     "name": "stdout",
     "output_type": "stream",
     "text": [
      "8深度，正确率0.99471，R-square:0.99786\n"
     ]
    },
    {
     "name": "stderr",
     "output_type": "stream",
     "text": [
      "D:\\Anaconda_exe\\lib\\site-packages\\ipykernel_launcher.py:8: DataConversionWarning: A column-vector y was passed when a 1d array was expected. Please change the shape of y to (n_samples,), for example using ravel().\n",
      "  \n"
     ]
    },
    {
     "name": "stdout",
     "output_type": "stream",
     "text": [
      "9深度，正确率0.99621，R-square:0.99913\n"
     ]
    },
    {
     "name": "stderr",
     "output_type": "stream",
     "text": [
      "D:\\Anaconda_exe\\lib\\site-packages\\ipykernel_launcher.py:8: DataConversionWarning: A column-vector y was passed when a 1d array was expected. Please change the shape of y to (n_samples,), for example using ravel().\n",
      "  \n"
     ]
    },
    {
     "name": "stdout",
     "output_type": "stream",
     "text": [
      "10深度，正确率0.99676，R-square:0.99957\n"
     ]
    },
    {
     "name": "stderr",
     "output_type": "stream",
     "text": [
      "D:\\Anaconda_exe\\lib\\site-packages\\ipykernel_launcher.py:8: DataConversionWarning: A column-vector y was passed when a 1d array was expected. Please change the shape of y to (n_samples,), for example using ravel().\n",
      "  \n"
     ]
    },
    {
     "name": "stdout",
     "output_type": "stream",
     "text": [
      "11深度，正确率0.99692，R-square:0.99970\n"
     ]
    },
    {
     "name": "stderr",
     "output_type": "stream",
     "text": [
      "D:\\Anaconda_exe\\lib\\site-packages\\ipykernel_launcher.py:8: DataConversionWarning: A column-vector y was passed when a 1d array was expected. Please change the shape of y to (n_samples,), for example using ravel().\n",
      "  \n"
     ]
    },
    {
     "name": "stdout",
     "output_type": "stream",
     "text": [
      "12深度，正确率0.99698，R-square:0.99976\n"
     ]
    },
    {
     "name": "stderr",
     "output_type": "stream",
     "text": [
      "D:\\Anaconda_exe\\lib\\site-packages\\ipykernel_launcher.py:8: DataConversionWarning: A column-vector y was passed when a 1d array was expected. Please change the shape of y to (n_samples,), for example using ravel().\n",
      "  \n"
     ]
    },
    {
     "name": "stdout",
     "output_type": "stream",
     "text": [
      "13深度，正确率0.99701，R-square:0.99978\n"
     ]
    },
    {
     "name": "stderr",
     "output_type": "stream",
     "text": [
      "D:\\Anaconda_exe\\lib\\site-packages\\ipykernel_launcher.py:8: DataConversionWarning: A column-vector y was passed when a 1d array was expected. Please change the shape of y to (n_samples,), for example using ravel().\n",
      "  \n"
     ]
    },
    {
     "name": "stdout",
     "output_type": "stream",
     "text": [
      "14深度，正确率0.99701，R-square:0.99979\n"
     ]
    },
    {
     "name": "stderr",
     "output_type": "stream",
     "text": [
      "D:\\Anaconda_exe\\lib\\site-packages\\ipykernel_launcher.py:8: DataConversionWarning: A column-vector y was passed when a 1d array was expected. Please change the shape of y to (n_samples,), for example using ravel().\n",
      "  \n"
     ]
    },
    {
     "name": "stdout",
     "output_type": "stream",
     "text": [
      "15深度，正确率0.99702，R-square:0.99979\n"
     ]
    },
    {
     "name": "stderr",
     "output_type": "stream",
     "text": [
      "D:\\Anaconda_exe\\lib\\site-packages\\ipykernel_launcher.py:8: DataConversionWarning: A column-vector y was passed when a 1d array was expected. Please change the shape of y to (n_samples,), for example using ravel().\n",
      "  \n"
     ]
    },
    {
     "name": "stdout",
     "output_type": "stream",
     "text": [
      "16深度，正确率0.99701，R-square:0.99979\n"
     ]
    },
    {
     "name": "stderr",
     "output_type": "stream",
     "text": [
      "D:\\Anaconda_exe\\lib\\site-packages\\ipykernel_launcher.py:8: DataConversionWarning: A column-vector y was passed when a 1d array was expected. Please change the shape of y to (n_samples,), for example using ravel().\n",
      "  \n"
     ]
    },
    {
     "name": "stdout",
     "output_type": "stream",
     "text": [
      "17深度，正确率0.99702，R-square:0.99979\n"
     ]
    },
    {
     "name": "stderr",
     "output_type": "stream",
     "text": [
      "D:\\Anaconda_exe\\lib\\site-packages\\ipykernel_launcher.py:8: DataConversionWarning: A column-vector y was passed when a 1d array was expected. Please change the shape of y to (n_samples,), for example using ravel().\n",
      "  \n"
     ]
    },
    {
     "name": "stdout",
     "output_type": "stream",
     "text": [
      "18深度，正确率0.99702，R-square:0.99979\n"
     ]
    },
    {
     "name": "stderr",
     "output_type": "stream",
     "text": [
      "D:\\Anaconda_exe\\lib\\site-packages\\ipykernel_launcher.py:8: DataConversionWarning: A column-vector y was passed when a 1d array was expected. Please change the shape of y to (n_samples,), for example using ravel().\n",
      "  \n"
     ]
    },
    {
     "name": "stdout",
     "output_type": "stream",
     "text": [
      "19深度，正确率0.99701，R-square:0.99979\n"
     ]
    }
   ],
   "source": [
    "# 6、不同深度的正确率及R方\n",
    "\n",
    "depths = np.arange(1, 20)\n",
    "err_list1 = []\n",
    "err_list2 = []\n",
    "for d in depths:\n",
    "    clf = RandomForestRegressor(n_estimators= 1000, random_state=42,max_depth=d)  # max_depth决策树深度\n",
    "    clf.fit(train_features, train_labels)\n",
    "    \n",
    "    score1 = clf.score(test_features, test_labels)\n",
    "    err1 = 1 - score1\n",
    "    score2 = clf.score(train_features, train_labels)\n",
    "    err2 = score2\n",
    "    err_list1.append(err1)\n",
    "    err_list2.append(err2)\n",
    "    print (\"%d深度，正确率%.5f，R-square:%.5f\" % (d, score1,score2))"
   ]
  },
  {
   "cell_type": "code",
   "execution_count": 25,
   "metadata": {},
   "outputs": [
    {
     "name": "stdout",
     "output_type": "stream",
     "text": [
      "1深度，正确率0.35013，R-square:0.36054\n",
      "2深度，正确率0.62857，R-square:0.63681\n",
      "3深度，正确率0.77734，R-square:0.77724\n",
      "4深度，正确率0.88880，R-square:0.89399\n",
      "5深度，正确率0.94889，R-square:0.95470\n",
      "6深度，正确率0.97768，R-square:0.98276\n",
      "7深度，正确率0.98992，R-square:0.99373\n",
      "8深度，正确率0.99471，R-square:0.99786\n",
      "9深度，正确率0.99621，R-square:0.99913\n",
      "10深度，正确率0.99676，R-square:0.99957\n",
      "11深度，正确率0.99692，R-square:0.99970\n",
      "12深度，正确率0.99698，R-square:0.99976\n",
      "13深度，正确率0.99701，R-square:0.99978\n",
      "14深度，正确率0.99701，R-square:0.99979\n",
      "15深度，正确率0.99702，R-square:0.99979\n",
      "16深度，正确率0.99701，R-square:0.99979\n",
      "17深度，正确率0.99702，R-square:0.99979\n",
      "18深度，正确率0.99702，R-square:0.99979\n",
      "19深度，正确率0.99701，R-square:0.99979\n"
     ]
    }
   ],
   "source": [
    "for d in depths:\n",
    "    print (\"%d深度，正确率%.5f，R-square:%.5f\" % (d, 1-err_list1[d-1],err_list2[d-1]))"
   ]
  },
  {
   "cell_type": "code",
   "execution_count": 26,
   "metadata": {},
   "outputs": [
    {
     "data": {
      "image/png": "[encoded data removed]",
      "text/plain": [
       "<Figure size 432x288 with 1 Axes>"
      ]
     },
     "metadata": {},
     "output_type": "display_data"
    }
   ],
   "source": [
    "## 7、画图\n",
    "plt.figure(facecolor='w')\n",
    "plt.plot(depths, err_list1, 'ro-', lw=3,label=u'错误率')\n",
    "plt.plot(depths, err_list2, 'go-', lw=3,label='R-square')\n",
    "plt.xlabel(u'树深度', fontsize=16)\n",
    "plt.ylabel(u'百分数', fontsize=16)\n",
    "plt.legend(loc = 'lower right')\n",
    "plt.grid(True)\n",
    "plt.title(u'随机森林不同树深度比较', fontsize=18)\n",
    "plt.show()"
   ]
  },
  {
   "cell_type": "code",
   "execution_count": 27,
   "metadata": {},
   "outputs": [
    {
     "name": "stderr",
     "output_type": "stream",
     "text": [
      "D:\\Anaconda_exe\\lib\\site-packages\\ipykernel_launcher.py:4: DataConversionWarning: A column-vector y was passed when a 1d array was expected. Please change the shape of y to (n_samples,), for example using ravel().\n",
      "  after removing the cwd from sys.path.\n",
      "D:\\Anaconda_exe\\lib\\site-packages\\ipykernel_launcher.py:7: DataConversionWarning: A column-vector y was passed when a 1d array was expected. Please change the shape of y to (n_samples,), for example using ravel().\n",
      "  import sys\n",
      "D:\\Anaconda_exe\\lib\\site-packages\\ipykernel_launcher.py:10: DataConversionWarning: A column-vector y was passed when a 1d array was expected. Please change the shape of y to (n_samples,), for example using ravel().\n",
      "  # Remove the CWD from sys.path while we load stuff.\n",
      "D:\\Anaconda_exe\\lib\\site-packages\\ipykernel_launcher.py:13: DataConversionWarning: A column-vector y was passed when a 1d array was expected. Please change the shape of y to (n_samples,), for example using ravel().\n",
      "  del sys.path[0]\n",
      "D:\\Anaconda_exe\\lib\\site-packages\\ipykernel_launcher.py:16: DataConversionWarning: A column-vector y was passed when a 1d array was expected. Please change the shape of y to (n_samples,), for example using ravel().\n",
      "  app.launch_new_instance()\n"
     ]
    }
   ],
   "source": [
    "#8.修改max_depth\n",
    "\n",
    "rf0 = RandomForestRegressor(n_estimators= 1000, random_state=42,max_depth=6)\n",
    "rf0.fit(train_features, train_labels)\n",
    "predictions0 = np.exp(rf0.predict(test_features))\n",
    "rf1 = RandomForestRegressor(n_estimators= 1000, random_state=42,max_depth=7)\n",
    "rf1.fit(train_features, train_labels)\n",
    "predictions1 = np.exp(rf1.predict(test_features))\n",
    "rf2 = RandomForestRegressor(n_estimators= 1000, random_state=42,max_depth=8)\n",
    "rf2.fit(train_features, train_labels)\n",
    "predictions2 = np.exp(rf2.predict(test_features))\n",
    "rf3 = RandomForestRegressor(n_estimators= 1000, random_state=42,max_depth=9)\n",
    "rf3.fit(train_features, train_labels)\n",
    "predictions3 = np.exp(rf3.predict(test_features))\n",
    "rf4 = RandomForestRegressor(n_estimators= 1000, random_state=42,max_depth=10)\n",
    "rf4.fit(train_features, train_labels)\n",
    "predictions4 = np.exp(rf4.predict(test_features))"
   ]
  },
  {
   "cell_type": "code",
   "execution_count": 28,
   "metadata": {},
   "outputs": [
    {
     "data": {
      "image/png": "[encoded data removed]",
      "text/plain": [
       "<Figure size 1280x720 with 1 Axes>"
      ]
     },
     "metadata": {},
     "output_type": "display_data"
    },
    {
     "data": {
      "text/plain": [
       "<Figure size 432x288 with 0 Axes>"
      ]
     },
     "metadata": {},
     "output_type": "display_data"
    }
   ],
   "source": [
    "# 9.画图\n",
    "plt.figure(figsize=(16,9),dpi=80,facecolor='w')\n",
    "\n",
    "ln_x_test = range(len(test_features))\n",
    "plt.plot(ln_x_test, np.exp(test_labels), 'r-', lw=2, label=u\"测试集真实数据\")\n",
    "plt.plot(ln_x_test, predictions0, 'b-', lw=4, label=u'max_depth=6，$R^2$=%.3f,score=%.3f' % (rf0.score(train_features, train_labels),rf0.score(test_features,test_labels)),alpha=0.5)\n",
    "plt.plot(ln_x_test, predictions1, 'y-', lw=4, label=u'max_depth=7，$R^2$=%.3f,score=%.3f' % (rf1.score(train_features, train_labels),rf1.score(test_features,test_labels)),alpha=0.5)\n",
    "plt.plot(ln_x_test, predictions2, 'c-', lw=4, label=u'max_depth=8，$R^2$=%.3f,score=%.3f' % (rf2.score(train_features, train_labels),rf2.score(test_features,test_labels)),alpha=0.5)\n",
    "plt.plot(ln_x_test, predictions3, 'g-', lw=4, label=u'max_depth=9，$R^2$=%.3f,score=%.3f' % (rf3.score(train_features, train_labels),rf3.score(test_features,test_labels)),alpha=0.5)\n",
    "plt.plot(ln_x_test, predictions4, 'm-', lw=4, label=u'max_depth=10，$R^2$=%.3f,score=%.3f' % (rf4.score(train_features, train_labels),rf4.score(test_features,test_labels)),alpha=0.5)\n",
    "plt.xlabel(u'数据编码')\n",
    "plt.ylabel(u'成交额及销量')\n",
    "plt.legend(loc = 'lower right')\n",
    "plt.grid(True)\n",
    "plt.title(u'直播交易额预测')\n",
    "plt.show()\n",
    "plt.savefig('figpath.png', dpi=400, bbox_inches='tight')"
   ]
  },
  {
   "cell_type": "code",
   "execution_count": 30,
   "metadata": {},
   "outputs": [],
   "source": [
    "# 10.可视化\n",
    "from sklearn import tree\n",
    "import pydotplus\n",
    "k = 0\n",
    "for clf in rf4.estimators_:\n",
    "    dot_data = tree.export_graphviz(clf, out_file=None,  \n",
    "                         filled=True, rounded=True,  \n",
    "                         special_characters=True)\n",
    "    graph = pydotplus.graph_from_dot_data(dot_data)\n",
    "    graph.write_svg(\"foress_tree_%d.svg\" % k)\n",
    "    k += 1\n",
    "    if k == 5:  # 只可视化前5个决策树\n",
    "        break"
   ]
  },
  {
   "cell_type": "markdown",
   "metadata": {},
   "source": [
    "# 三、拓展\n",
    "### 剪枝处理；\n",
    "clf.cost_complexity_pruning_path(X, y) ：返回 CCP(Cost Complexity Pruning代价复杂度剪枝)法的剪枝路径。  \n",
    "\n",
    "### 常用参数\n",
    "class_weight  ：设置各类别样本的权重，默认是各个样本权重一样，都为 1.  \n",
    "ccp_alpha    ：剪枝时的alpha系数，需要剪枝时设置该参数，默认值是不会剪枝的。  \n",
    "random_state ：需要每次训练都一样时，就需要设置该参数。  \n",
    "criterion      ：节点质量评估函数（gini,entropy） （看似常用，实际不常用。）  \n",
    "\n",
    "#### 预防过拟合参数（为防过拟合，可以尝试调整以下参数）  \n",
    "min_samples_leaf      ：叶子节点最小样本数。  \n",
    "min_samples_split      ：节点分枝最小样本个数  \n",
    "max_depth         ：树分枝的最大深度  \n",
    "min_weight_fraction_leaf ：叶子节点最小权重和  \n",
    "min_impurity_decrease  ：节点分枝最小纯度增长量  \n",
    "max_leaf_nodes       ：最大叶子节点数  \n",
    " \n",
    "#### 树的多样性参数（训练弱树常用以下参数）：\n",
    "max_features：特征最大查找个数  \n",
    "splitter      ：分枝时变量选择方式 \n",
    "\n",
    "可参照：https://blog.csdn.net/ywj_1991/article/details/122962524?ops_request_misc=%257B%2522request%255Fid%2522%253A%2522166755311016782388093984%2522%252C%2522scm%2522%253A%252220140713.130102334..%2522%257D&request_id=166755311016782388093984&biz_id=0&utm_medium=distribute.pc_search_result.none-task-blog-2~all~sobaiduend~default-2-122962524-null-null.142^v63^control,201^v3^control_1,213^v1^t3_control2&utm_term=python%E5%86%B3%E7%AD%96%E6%A0%91%E5%8F%82%E6%95%B0&spm=1018.2226.3001.4187  "
   ]
  },
  {
   "cell_type": "code",
   "execution_count": null,
   "metadata": {},
   "outputs": [],
   "source": []
  },
  {
   "cell_type": "code",
   "execution_count": null,
   "metadata": {},
   "outputs": [],
   "source": []
  },
  {
   "cell_type": "code",
   "execution_count": null,
   "metadata": {},
   "outputs": [],
   "source": []
  },
  {
   "cell_type": "code",
   "execution_count": null,
   "metadata": {},
   "outputs": [],
   "source": []
  }
 ],
 "metadata": {
  "kernelspec": {
   "display_name": "Python 3",
   "language": "python",
   "name": "python3"
  },
  "language_info": {
   "codemirror_mode": {
    "name": "ipython",
    "version": 3
   },
   "file_extension": ".py",
   "mimetype": "text/x-python",
   "name": "python",
   "nbconvert_exporter": "python",
   "pygments_lexer": "ipython3",
   "version": "3.8.8"
  }
 },
 "nbformat": 4,
 "nbformat_minor": 2
}
