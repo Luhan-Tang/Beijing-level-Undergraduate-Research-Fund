{
 "cells": [
  {
   "cell_type": "code",
   "execution_count": 1,
   "metadata": {},
   "outputs": [],
   "source": [
    "import numpy as np\n",
    "import matplotlib as mpl\n",
    "import matplotlib.pyplot as plt\n",
    "import pandas as pd\n",
    "import warnings  # 警告处理\n",
    "\n",
    "#from sklearn.linear_model.coordinate_descent import ConvergenceWarning  # 警告处理\n",
    "from sklearn.linear_model import LinearRegression, LassoCV, RidgeCV  # 回归模型\n",
    "from sklearn.tree import DecisionTreeRegressor  # 回归决策树模型\n",
    "from sklearn.model_selection import train_test_split  # 数据分割\n",
    "from sklearn.preprocessing import MinMaxScaler  # 数据归一化 (分类)\n",
    "from sklearn.preprocessing import StandardScaler  # 数据归一化(回归)\n",
    "\n",
    "from sklearn import tree\n",
    "from sklearn.decomposition import PCA  # 主成分分析\n",
    "from sklearn.pipeline import Pipeline  # 管道\n",
    "from sklearn.model_selection import GridSearchCV  # 网格搜索交叉验证，用于选择最优的参数\n",
    "\n",
    "from sklearn.preprocessing import label_binarize  # 数据二值化\n",
    "from sklearn.decomposition import PCA  # 降维\n",
    "from sklearn.ensemble import RandomForestClassifier  # 分类随机森林模型\n",
    "from sklearn.ensemble import RandomForestRegressor  # 回归随机森林模型\n",
    "from sklearn import metrics  # ROC/AUC"
   ]
  },
  {
   "cell_type": "code",
   "execution_count": null,
   "metadata": {},
   "outputs": [],
   "source": []
  },
  {
   "cell_type": "code",
   "execution_count": 12,
   "metadata": {},
   "outputs": [
    {
     "name": "stdout",
     "output_type": "stream",
     "text": [
      "[[   2.           12.81503355   11.44021068 ...   84.\n",
      "     9.42003388   13.85089146]\n",
      " [   2.           12.86519344   11.10448243 ... 1644.58\n",
      "     8.14583961   15.55108144]\n",
      " [   2.           12.62278098   11.98470373 ...   58.12\n",
      "     6.68085468   10.74338308]\n",
      " ...\n",
      " [   3.           14.13962862    9.47566038 ...  209.89\n",
      "     6.57228254   11.91887979]\n",
      " [   2.           14.38847909   11.61066451 ... 1770.77\n",
      "     7.78239034   15.26156281]\n",
      " [   2.           12.56578697   10.81089225 ...   48.15\n",
      "     7.74109909   11.61548115]]\n",
      "[[  6.          12.51189052  10.45937736 ... 124.01         6.56807791\n",
      "   11.38847387]\n",
      " [  6.          14.05452746   8.11822195 ... 132.2          6.25575004\n",
      "   11.1400529 ]\n",
      " [  7.          11.74184431  11.80817756 ...  57.17         6.59304453\n",
      "   10.63903308]\n",
      " ...\n",
      " [  2.          18.1643007   15.56390537 ... 106.71        13.80664033\n",
      "   18.47679458]\n",
      " [  2.          12.92337083  11.59509514 ... 128.08         7.08590146\n",
      "   11.93852256]\n",
      " [  2.          12.98611515   9.80983234 ... 129.94         6.67959919\n",
      "   11.54663583]]\n",
      "训练数据集样本数目：11834, 测试数据集样本数目：2963\n"
     ]
    }
   ],
   "source": [
    "# 1.数据引入\n",
    "train=pd.read_csv('lntrain5.csv')\n",
    "test=pd.read_csv('lntest5.csv')\n",
    "#所有列都进入决策\n",
    "train=train[['category','lnfans', 'lnlikes', 'lnviewers_y','date', 'count', 'lnviewers_x', 'sum', 'customer_unit_price', 'lnsales','lnsales_value']]\n",
    "test=test[['category','lnfans', 'lnlikes', 'lnviewers_y','date', 'count', 'lnviewers_x', 'sum', 'customer_unit_price', 'lnsales','lnsales_value']]\n",
    "# 2.数据处理\n",
    "\n",
    "\n",
    "train[np.isinf(train)]=np.nan\n",
    "train=train.dropna(axis=0,how='any')\n",
    "train = train.values\n",
    "print(train)\n",
    "\n",
    "\n",
    "test[np.isinf(test)]=np.nan\n",
    "test=test.dropna(axis=0,how='any')\n",
    "test = test.values\n",
    "print(test)\n",
    "\n",
    "# 3.数据分割\n",
    "X_train, Y_train = np.split(train, (10,), axis=1)\n",
    "X_test,Y_test=np.split(test, (10,), axis=1)\n",
    "print (\"训练数据集样本数目：%d, 测试数据集样本数目：%d\" % (X_train.shape[0], X_test.shape[0]))\n",
    "\n",
    "# 4.数据归一化(回归)\n",
    "from sklearn.preprocessing import StandardScaler  # 数据归一化(回归)\n",
    "ss = StandardScaler()  # 创建归一化模型\n",
    "X_train = ss.fit_transform(X_train, Y_train)  # 训练模型并转换数据\n",
    "X_test = ss.transform(X_test)  # 转换数据"
   ]
  },
  {
   "cell_type": "code",
   "execution_count": 18,
   "metadata": {},
   "outputs": [
    {
     "name": "stdout",
     "output_type": "stream",
     "text": [
      "[[-3.59323432e-01  8.69456587e-02 -1.75787793e-03 -5.24151802e-02\n",
      "  -1.80625118e-04 -9.49398500e-02  3.86638562e-01 -2.35188984e-02\n",
      "   7.12442475e-01  1.28289393e+00]]\n",
      "线性回归正确率：57.25%\n",
      "10.925536299838114\n",
      "0.7362410984071883\n"
     ]
    },
    {
     "name": "stderr",
     "output_type": "stream",
     "text": [
      "D:\\Anaconda_exe\\lib\\site-packages\\ipykernel_launcher.py:12: RuntimeWarning: divide by zero encountered in true_divide\n",
      "  if sys.path[0] == '':\n"
     ]
    }
   ],
   "source": [
    "\n",
    "## b.线性回归模型\n",
    "# 1、构建模型\n",
    "lr = LinearRegression() # 构建线性回归模型\n",
    "lr.fit(X_train, Y_train)  # 模型训练\n",
    "lr_y_hat = lr.predict(X_test)  # 模型预测\n",
    "print(lr.coef_)\n",
    "lr_score = lr.score(X_test, Y_test)  # 模型评估\n",
    "print(\"线性回归正确率：%.2f%%\" % (lr_score * 100))\n",
    "# 2、计算MAPE值\n",
    "errors = abs(lr_y_hat - Y_test) # 计算误差\n",
    "mape = 100 * (errors / Y_test) # mean absolute percentage error (MAPE)\n",
    "where_are_inf = np.isinf(mape)\n",
    "mape[where_are_inf] = 0\n",
    "print(np.mean(mape))\n",
    "# 3、计算NMSE值\n",
    "a = (lr_y_hat - Y_test)**2 # 分子\n",
    "y=np.mean(Y_test)\n",
    "b=(lr_y_hat-y)**2 # 分母\n",
    "nmse=np.mean(a)/np.mean(b)\n",
    "print(nmse)"
   ]
  },
  {
   "cell_type": "code",
   "execution_count": null,
   "metadata": {},
   "outputs": [],
   "source": [
    "print(\"线性回归正确率：%.2f%%\" % (lr_score * 100))\n",
    "## c.Lasso回归模型\n",
    "ls = LassoCV(alphas=np.logspace(-3,1,20)) # 构建LASSO模型\n",
    "ls.fit(X_train, Y_train)  # 模型训练\n",
    "ls_y_hat = ls.predict(X_test)  # 模型预测\n",
    "ls_score = ls.score(X_test, Y_test)  # 模型评估\n",
    "print(\"Lasso回归正确率：%.2f%%\" % (ls_score * 100))\n",
    "## d.Ridge回归模型\n",
    "rg = RidgeCV(alphas=np.logspace(-3,1,20)) # 构建LASSO模型\n",
    "rg.fit(X_train, Y_train)  # 模型训练\n",
    "rg_y_hat = rg.predict(X_test)  # 模型预测\n",
    "rg_score = rg.score(X_test, Y_test)  # 模型评估\n",
    "print(\"Ridge回归正确率：%.2f%%\" % (rg_score * 100))"
   ]
  },
  {
   "cell_type": "code",
   "execution_count": null,
   "metadata": {},
   "outputs": [],
   "source": []
  }
 ],
 "metadata": {
  "kernelspec": {
   "display_name": "Python 3",
   "language": "python",
   "name": "python3"
  },
  "language_info": {
   "codemirror_mode": {
    "name": "ipython",
    "version": 3
   },
   "file_extension": ".py",
   "mimetype": "text/x-python",
   "name": "python",
   "nbconvert_exporter": "python",
   "pygments_lexer": "ipython3",
   "version": "3.8.8"
  }
 },
 "nbformat": 4,
 "nbformat_minor": 2
}
